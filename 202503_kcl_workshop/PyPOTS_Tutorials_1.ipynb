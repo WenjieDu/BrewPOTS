{
  "cells": [
    {
      "cell_type": "markdown",
      "metadata": {
        "id": "DonG1Q5K8lFi"
      },
      "source": [
        "# 😎 Quick-start Tutorials for PyPOTS are Here!"
      ]
    },
    {
      "cell_type": "markdown",
      "metadata": {
        "id": "nDZqwFN4899V"
      },
      "source": [
        "## Dependency Installation"
      ]
    },
    {
      "cell_type": "code",
      "execution_count": null,
      "metadata": {},
      "outputs": [],
      "source": [
        "!pip install https://github.com/WenjieDu/PyPOTS/archive/dev.zip"
      ]
    },
    {
      "cell_type": "code",
      "execution_count": 1,
      "metadata": {
        "colab": {
          "base_uri": "https://localhost:8080/"
        },
        "id": "M4QHQOPd0dXW",
        "outputId": "38ea95bb-b836-4107-d4e1-42d9e7ec739c"
      },
      "outputs": [
        {
          "name": "stderr",
          "output_type": "stream",
          "text": [
            "/data/miniconda3/envs/workshop/lib/python3.12/site-packages/tqdm/auto.py:21: TqdmWarning: IProgress not found. Please update jupyter and ipywidgets. See https://ipywidgets.readthedocs.io/en/stable/user_install.html\n",
            "  from .autonotebook import tqdm as notebook_tqdm\n"
          ]
        },
        {
          "name": "stdout",
          "output_type": "stream",
          "text": [
            "\u001b[34m\n",
            "████████╗██╗███╗   ███╗███████╗    ███████╗███████╗██████╗ ██╗███████╗███████╗    █████╗ ██╗\n",
            "╚══██╔══╝██║████╗ ████║██╔════╝    ██╔════╝██╔════╝██╔══██╗██║██╔════╝██╔════╝   ██╔══██╗██║\n",
            "   ██║   ██║██╔████╔██║█████╗█████╗███████╗█████╗  ██████╔╝██║█████╗  ███████╗   ███████║██║\n",
            "   ██║   ██║██║╚██╔╝██║██╔══╝╚════╝╚════██║██╔══╝  ██╔══██╗██║██╔══╝  ╚════██║   ██╔══██║██║\n",
            "   ██║   ██║██║ ╚═╝ ██║███████╗    ███████║███████╗██║  ██║██║███████╗███████║██╗██║  ██║██║\n",
            "   ╚═╝   ╚═╝╚═╝     ╚═╝╚══════╝    ╚══════╝╚══════╝╚═╝  ╚═╝╚═╝╚══════╝╚══════╝╚═╝╚═╝  ╚═╝╚═╝\n",
            "ai4ts v0.0.3 - building AI for unified time-series analysis, https://time-series.ai \u001b[0m\n",
            "\n"
          ]
        }
      ],
      "source": [
        "import pypots"
      ]
    },
    {
      "cell_type": "markdown",
      "metadata": {
        "id": "StrWh_It88lF"
      },
      "source": [
        "## 📀 Preparing the **PhysioNet-2012** dataset for this tutorial"
      ]
    },
    {
      "cell_type": "code",
      "execution_count": 2,
      "metadata": {
        "colab": {
          "base_uri": "https://localhost:8080/"
        },
        "id": "yASJSepF17za",
        "outputId": "35806938-bb91-4a86-88c9-d9f67ecd6f44"
      },
      "outputs": [
        {
          "name": "stderr",
          "output_type": "stream",
          "text": [
            "2025-03-18 11:22:12 [INFO]: Have set the random seed as 2022 for numpy and pytorch.\n",
            "2025-03-18 11:22:12 [INFO]: You're using dataset physionet_2012, please cite it properly in your work. You can find its reference information at the below link: \n",
            "https://github.com/WenjieDu/TSDB/tree/main/dataset_profiles/physionet_2012\n",
            "2025-03-18 11:22:12 [INFO]: Dataset physionet_2012 has already been downloaded. Processing directly...\n",
            "2025-03-18 11:22:12 [INFO]: Dataset physionet_2012 has already been cached. Loading from cache directly...\n",
            "2025-03-18 11:22:12 [INFO]: Loaded successfully!\n",
            "2025-03-18 11:22:18 [WARNING]: Note that physionet_2012 has sparse observations in the time series, hence we don't add additional missing values to the training dataset. \n",
            "2025-03-18 11:22:18 [INFO]: 22880 values masked out in the val set as ground truth, take 10.02% of the original observed values\n",
            "2025-03-18 11:22:18 [INFO]: 28654 values masked out in the test set as ground truth, take 9.98% of the original observed values\n",
            "2025-03-18 11:22:18 [INFO]: Total sample number: 3997\n",
            "2025-03-18 11:22:18 [INFO]: Training set size: 2557 (63.97%)\n",
            "2025-03-18 11:22:18 [INFO]: Validation set size: 640 (16.01%)\n",
            "2025-03-18 11:22:18 [INFO]: Test set size: 800 (20.02%)\n",
            "2025-03-18 11:22:18 [INFO]: Number of steps: 48\n",
            "2025-03-18 11:22:18 [INFO]: Number of features: 37\n",
            "2025-03-18 11:22:18 [INFO]: Train set missing rate: 79.65%\n",
            "2025-03-18 11:22:18 [INFO]: Validating set missing rate: 81.92%\n",
            "2025-03-18 11:22:18 [INFO]: Test set missing rate: 81.81%\n"
          ]
        },
        {
          "name": "stdout",
          "output_type": "stream",
          "text": [
            "dict_keys(['n_classes', 'n_steps', 'n_features', 'scaler', 'train_X', 'train_y', 'train_ICUType', 'val_X', 'val_y', 'val_ICUType', 'test_X', 'test_y', 'test_ICUType', 'val_X_ori', 'test_X_ori'])\n"
          ]
        }
      ],
      "source": [
        "import numpy as np\n",
        "import benchpots\n",
        "from pypots.utils.random import set_random_seed\n",
        "\n",
        "set_random_seed()\n",
        "\n",
        "# Load the PhysioNet-2012 dataset\n",
        "physionet2012_dataset = benchpots.datasets.preprocess_physionet2012(subset=\"set-a\", pattern=\"point\", rate=0.1)\n",
        "\n",
        "# Take a look at the generated PhysioNet-2012 dataset, you'll find that everything has been prepared for you,\n",
        "# data splitting, normalization, additional artificially-missing values for evaluation, etc.\n",
        "print(physionet2012_dataset.keys())"
      ]
    },
    {
      "cell_type": "markdown",
      "metadata": {
        "id": "lc3SoTqg9r2M"
      },
      "source": [
        "## 🌟 Imputation Models"
      ]
    },
    {
      "cell_type": "code",
      "execution_count": 5,
      "metadata": {
        "id": "Z11KSsFu-A9q"
      },
      "outputs": [],
      "source": [
        "# assemble the datasets for training\n",
        "dataset_for_training = {\n",
        "    \"X\": physionet2012_dataset['train_X'],\n",
        "}\n",
        "# assemble the datasets for validation\n",
        "dataset_for_validating = {\n",
        "    \"X\": physionet2012_dataset['val_X'],\n",
        "    \"X_ori\": physionet2012_dataset['val_X_ori'],\n",
        "}\n",
        "# assemble the datasets for test\n",
        "dataset_for_testing = {\n",
        "    \"X\": physionet2012_dataset['test_X'],\n",
        "}\n",
        "## calculate the mask to indicate the ground truth positions in test_X_ori, will be used by metric funcs to evaluate models\n",
        "test_X_indicating_mask = np.isnan(physionet2012_dataset['test_X_ori']) ^ np.isnan(physionet2012_dataset['test_X'])\n",
        "test_X_ori = np.nan_to_num(physionet2012_dataset['test_X_ori'])  # metric functions do not accpet input with NaNs, hence fill NaNs with 0"
      ]
    },
    {
      "cell_type": "markdown",
      "metadata": {
        "id": "oVqyqt_S9z3E"
      },
      "source": [
        "### 🚀 An example of **SAITS** for imputation"
      ]
    },
    {
      "cell_type": "code",
      "execution_count": null,
      "metadata": {
        "colab": {
          "base_uri": "https://localhost:8080/"
        },
        "id": "kcxUvLNE9rNL",
        "outputId": "c7544f36-8410-44bb-b54c-f1ca33615358"
      },
      "outputs": [
        {
          "name": "stderr",
          "output_type": "stream",
          "text": [
            "2025-03-18 08:58:21 [WARNING]: ‼️ `pypots.utils.metrics` is deprecated. Please import from `pypots.nn.functional` instead.\n",
            "2025-03-18 08:58:22 [INFO]: No given device, using default device: cuda\n",
            "2025-03-18 08:58:22 [INFO]: Model files will be saved to tutorial_results/imputation/saits/20250318_T085822\n",
            "2025-03-18 08:58:22 [INFO]: Tensorboard file will be saved to tutorial_results/imputation/saits/20250318_T085822/tensorboard\n",
            "2025-03-18 08:58:22 [INFO]: Using customized MAE as the training loss function.\n",
            "2025-03-18 08:58:22 [INFO]: Using customized MSE as the validation metric function.\n",
            "2025-03-18 08:58:22 [INFO]: SAITS initialized with the given hyperparameters, the number of trainable parameters: 720,182\n",
            "2025-03-18 08:58:24 [INFO]: Epoch 001 - training loss (MAE): 0.9300, validation MSE: 0.3957\n",
            "2025-03-18 08:58:25 [INFO]: Epoch 002 - training loss (MAE): 0.6510, validation MSE: 0.3523\n",
            "2025-03-18 08:58:25 [INFO]: Epoch 003 - training loss (MAE): 0.5865, validation MSE: 0.3411\n",
            "2025-03-18 08:58:26 [INFO]: Epoch 004 - training loss (MAE): 0.5595, validation MSE: 0.3372\n",
            "2025-03-18 08:58:27 [INFO]: Epoch 005 - training loss (MAE): 0.5345, validation MSE: 0.3273\n",
            "2025-03-18 08:58:28 [INFO]: Epoch 006 - training loss (MAE): 0.5194, validation MSE: 0.3199\n",
            "2025-03-18 08:58:29 [INFO]: Epoch 007 - training loss (MAE): 0.5040, validation MSE: 0.3047\n",
            "2025-03-18 08:58:30 [INFO]: Epoch 008 - training loss (MAE): 0.4895, validation MSE: 0.2997\n",
            "2025-03-18 08:58:31 [INFO]: Epoch 009 - training loss (MAE): 0.4800, validation MSE: 0.2839\n",
            "2025-03-18 08:58:31 [INFO]: Epoch 010 - training loss (MAE): 0.4664, validation MSE: 0.2781\n",
            "2025-03-18 08:58:31 [INFO]: Finished training. The best model is from epoch#10.\n",
            "2025-03-18 08:58:31 [INFO]: Saved the model to tutorial_results/imputation/saits/20250318_T085822/SAITS.pypots\n"
          ]
        },
        {
          "name": "stdout",
          "output_type": "stream",
          "text": [
            "Testing mean absolute error: 0.2902\n"
          ]
        }
      ],
      "source": [
        "from pypots.nn.functional import calc_mae\n",
        "from pypots.optim import Adam\n",
        "from pypots.imputation import SAITS\n",
        "\n",
        "# initialize the model\n",
        "saits = SAITS(\n",
        "    n_steps=physionet2012_dataset['n_steps'],\n",
        "    n_features=physionet2012_dataset['n_features'],\n",
        "    n_layers=1,\n",
        "    d_model=256,\n",
        "    d_ffn=128,\n",
        "    n_heads=4,\n",
        "    d_k=64,\n",
        "    d_v=64,\n",
        "    dropout=0.1,\n",
        "    ORT_weight=1,  # you can adjust the weight values of arguments ORT_weight\n",
        "    # and MIT_weight to make the SAITS model focus more on one task. Usually you can just leave them to the default values, i.e. 1.\n",
        "    MIT_weight=1,\n",
        "    batch_size=32,\n",
        "    # here we set epochs=10 for a quick demo, you can set it to 100 or more for better performance\n",
        "    epochs=10,\n",
        "    # here we set patience=3 to early stop the training if the evaluting loss doesn't decrease for 3 epoches.\n",
        "    # You can leave it to defualt as None to disable early stopping.\n",
        "    patience=3,\n",
        "    # give the optimizer. Different from torch.optim.Optimizer, you don't have to specify model's parameters when\n",
        "    # initializing pypots.optim.Optimizer. You can also leave it to default. It will initilize an Adam optimizer with lr=0.001.\n",
        "    optimizer=Adam(lr=1e-3),\n",
        "    # this num_workers argument is for torch.utils.data.Dataloader. It's the number of subprocesses to use for data loading.\n",
        "    # Leaving it to default as 0 means data loading will be in the main process, i.e. there won't be subprocesses.\n",
        "    # You can increase it to >1 if you think your dataloading is a bottleneck to your model training speed\n",
        "    num_workers=0,\n",
        "    # just leave it to default as None, PyPOTS will automatically assign the best device for you.\n",
        "    # Set it as 'cpu' if you don't have CUDA devices. You can also set it to 'cuda:0' or 'cuda:1' if you have multiple CUDA devices, even parallelly on ['cuda:0', 'cuda:1']\n",
        "    device=None,\n",
        "    # set the path for saving tensorboard and trained model files\n",
        "    saving_path=\"tutorial_results/imputation/saits\",\n",
        "    # only save the best model after training finished.\n",
        "    # You can also set it as \"better\" to save models performing better ever during training.\n",
        "    model_saving_strategy=\"best\",\n",
        ")\n",
        "\n",
        "# train the model on the training set, and validate it on the validating set to select the best model for testing in the next step\n",
        "saits.fit(train_set=dataset_for_training, val_set=dataset_for_validating)\n",
        "\n",
        "# the testing stage, impute the originally-missing values and artificially-missing values in the test set\n",
        "saits_results = saits.predict(dataset_for_testing)\n",
        "saits_imputation = saits_results[\"imputation\"]\n",
        "\n",
        "# calculate mean absolute error on the ground truth (artificially-missing values)\n",
        "testing_mae = calc_mae(\n",
        "    saits_imputation,\n",
        "    test_X_ori,\n",
        "    test_X_indicating_mask,\n",
        ")\n",
        "print(f\"Testing mean absolute error: {testing_mae:.4f}\")\n"
      ]
    },
    {
      "cell_type": "markdown",
      "metadata": {
        "id": "15BwxZCW-OLm"
      },
      "source": [
        "### 🚀 An example of **Transformer** for imputation"
      ]
    },
    {
      "cell_type": "code",
      "execution_count": null,
      "metadata": {
        "colab": {
          "base_uri": "https://localhost:8080/"
        },
        "id": "hRUFFj11-NWj",
        "outputId": "16be30e1-b4e5-4ad3-f1cb-b8d4b03044dd"
      },
      "outputs": [
        {
          "name": "stderr",
          "output_type": "stream",
          "text": [
            "2025-03-18 08:58:31 [INFO]: No given device, using default device: cuda\n",
            "2025-03-18 08:58:31 [INFO]: Model files will be saved to tutorial_results/imputation/transformer/20250318_T085831\n",
            "2025-03-18 08:58:31 [INFO]: Tensorboard file will be saved to tutorial_results/imputation/transformer/20250318_T085831/tensorboard\n",
            "2025-03-18 08:58:31 [INFO]: Using customized MAE as the training loss function.\n",
            "2025-03-18 08:58:31 [INFO]: Using customized MSE as the validation metric function.\n",
            "2025-03-18 08:58:31 [INFO]: Transformer initialized with the given hyperparameters, the number of trainable parameters: 3,997,989\n",
            "2025-03-18 08:58:32 [INFO]: Epoch 001 - training loss (MAE): 1.2109, validation MSE: 0.4247\n",
            "2025-03-18 08:58:33 [INFO]: Epoch 002 - training loss (MAE): 0.6904, validation MSE: 0.3723\n",
            "2025-03-18 08:58:34 [INFO]: Epoch 003 - training loss (MAE): 0.6154, validation MSE: 0.3667\n",
            "2025-03-18 08:58:34 [INFO]: Epoch 004 - training loss (MAE): 0.5691, validation MSE: 0.3298\n",
            "2025-03-18 08:58:35 [INFO]: Epoch 005 - training loss (MAE): 0.5322, validation MSE: 0.3117\n",
            "2025-03-18 08:58:36 [INFO]: Epoch 006 - training loss (MAE): 0.5134, validation MSE: 0.2967\n",
            "2025-03-18 08:58:36 [INFO]: Epoch 007 - training loss (MAE): 0.4919, validation MSE: 0.2920\n",
            "2025-03-18 08:58:37 [INFO]: Epoch 008 - training loss (MAE): 0.4777, validation MSE: 0.2886\n",
            "2025-03-18 08:58:38 [INFO]: Epoch 009 - training loss (MAE): 0.4637, validation MSE: 0.2806\n",
            "2025-03-18 08:58:39 [INFO]: Epoch 010 - training loss (MAE): 0.4475, validation MSE: 0.2781\n",
            "2025-03-18 08:58:39 [INFO]: Finished training. The best model is from epoch#10.\n",
            "2025-03-18 08:58:39 [INFO]: Saved the model to tutorial_results/imputation/transformer/20250318_T085831/Transformer.pypots\n"
          ]
        },
        {
          "name": "stdout",
          "output_type": "stream",
          "text": [
            "Testing mean absolute error: 0.2901\n"
          ]
        }
      ],
      "source": [
        "from pypots.optim import Adam\n",
        "from pypots.imputation import Transformer\n",
        "from pypots.nn.functional import calc_mae\n",
        "\n",
        "# initialize the model\n",
        "transformer = Transformer(\n",
        "    n_steps=physionet2012_dataset['n_steps'],\n",
        "    n_features=physionet2012_dataset['n_features'],\n",
        "    n_layers=3,\n",
        "    d_model=512,\n",
        "    d_ffn=256,\n",
        "    n_heads=4,\n",
        "    d_k=128,\n",
        "    d_v=128,\n",
        "    dropout=0.1,\n",
        "    attn_dropout=0,\n",
        "    ORT_weight=1,  # you can adjust the weight values of arguments ORT_weight\n",
        "    # and MIT_weight to make the SAITS model focus more on one task. Usually you can just leave them to the default values, i.e. 1.\n",
        "    MIT_weight=1,\n",
        "    batch_size=32,\n",
        "    # here we set epochs=10 for a quick demo, you can set it to 100 or more for better performance\n",
        "    epochs=10,\n",
        "    # here we set patience=3 to early stop the training if the evaluting loss doesn't decrease for 3 epoches.\n",
        "    # You can leave it to defualt as None to disable early stopping.\n",
        "    patience=3,\n",
        "    # give the optimizer. Different from torch.optim.Optimizer, you don't have to specify model's parameters when\n",
        "    # initializing pypots.optim.Optimizer. You can also leave it to default. It will initilize an Adam optimizer with lr=0.001.\n",
        "    optimizer=Adam(lr=1e-3),\n",
        "    # this num_workers argument is for torch.utils.data.Dataloader. It's the number of subprocesses to use for data loading.\n",
        "    # Leaving it to default as 0 means data loading will be in the main process, i.e. there won't be subprocesses.\n",
        "    # You can increase it to >1 if you think your dataloading is a bottleneck to your model training speed\n",
        "    num_workers=0,\n",
        "    # just leave it to default as None, PyPOTS will automatically assign the best device for you.\n",
        "    # Set it as 'cpu' if you don't have CUDA devices. You can also set it to 'cuda:0' or 'cuda:1' if you have multiple CUDA devices, even parallelly on ['cuda:0', 'cuda:1']\n",
        "    device=None,\n",
        "    # set the path for saving tensorboard and trained model files\n",
        "    saving_path=\"tutorial_results/imputation/transformer\",\n",
        "    # only save the best model after training finished.\n",
        "    # You can also set it as \"better\" to save models performing better ever during training.\n",
        "    model_saving_strategy=\"best\",\n",
        ")\n",
        "\n",
        "\n",
        "# train the model on the training set, and validate it on the validating set to select the best model for testing in the next step\n",
        "transformer.fit(train_set=dataset_for_training, val_set=dataset_for_validating)\n",
        "\n",
        "# the testing stage, impute the originally-missing values and artificially-missing values in the test set\n",
        "transformer_results = transformer.predict(dataset_for_testing)\n",
        "transformer_imputation = transformer_results[\"imputation\"]\n",
        "\n",
        "# calculate mean absolute error on the ground truth (artificially-missing values)\n",
        "testing_mae = calc_mae(\n",
        "    transformer_imputation,\n",
        "    test_X_ori,\n",
        "    test_X_indicating_mask,\n",
        ")\n",
        "print(f\"Testing mean absolute error: {testing_mae:.4f}\")\n"
      ]
    },
    {
      "cell_type": "markdown",
      "metadata": {
        "id": "p6In_IPwOc-g"
      },
      "source": [
        "### 🚀 An example of **TimesNet** for imputation"
      ]
    },
    {
      "cell_type": "code",
      "execution_count": null,
      "metadata": {
        "colab": {
          "base_uri": "https://localhost:8080/"
        },
        "id": "xytZs35XOjnT",
        "outputId": "e78f4369-58fe-43f4-9179-f37844c594a4"
      },
      "outputs": [
        {
          "name": "stderr",
          "output_type": "stream",
          "text": [
            "2025-03-18 08:58:39 [INFO]: No given device, using default device: cuda\n",
            "2025-03-18 08:58:39 [INFO]: Model files will be saved to tutorial_results/imputation/timesnet/20250318_T085839\n",
            "2025-03-18 08:58:39 [INFO]: Tensorboard file will be saved to tutorial_results/imputation/timesnet/20250318_T085839/tensorboard\n",
            "2025-03-18 08:58:39 [INFO]: Using customized MAE as the training loss function.\n",
            "2025-03-18 08:58:39 [INFO]: Using customized MSE as the validation metric function.\n",
            "2025-03-18 08:58:40 [INFO]: TimesNet initialized with the given hyperparameters, the number of trainable parameters: 21,649,573\n",
            "2025-03-18 08:58:45 [INFO]: Epoch 001 - training loss (MAE): 0.4906, validation MSE: 0.4071\n",
            "2025-03-18 08:58:46 [INFO]: Epoch 002 - training loss (MAE): 0.4066, validation MSE: 0.3826\n",
            "2025-03-18 08:58:47 [INFO]: Epoch 003 - training loss (MAE): 0.3916, validation MSE: 0.3700\n",
            "2025-03-18 08:58:48 [INFO]: Epoch 004 - training loss (MAE): 0.3878, validation MSE: 0.3554\n",
            "2025-03-18 08:58:49 [INFO]: Epoch 005 - training loss (MAE): 0.3788, validation MSE: 0.3543\n",
            "2025-03-18 08:58:50 [INFO]: Epoch 006 - training loss (MAE): 0.3777, validation MSE: 0.3498\n",
            "2025-03-18 08:58:51 [INFO]: Epoch 007 - training loss (MAE): 0.3718, validation MSE: 0.3425\n",
            "2025-03-18 08:58:52 [INFO]: Epoch 008 - training loss (MAE): 0.3700, validation MSE: 0.3391\n",
            "2025-03-18 08:58:53 [INFO]: Epoch 009 - training loss (MAE): 0.3672, validation MSE: 0.3355\n",
            "2025-03-18 08:58:54 [INFO]: Epoch 010 - training loss (MAE): 0.3659, validation MSE: 0.3361\n",
            "2025-03-18 08:58:54 [INFO]: Finished training. The best model is from epoch#9.\n",
            "2025-03-18 08:58:54 [INFO]: Saved the model to tutorial_results/imputation/timesnet/20250318_T085839/TimesNet.pypots\n"
          ]
        },
        {
          "name": "stdout",
          "output_type": "stream",
          "text": [
            "Testing mean absolute error: 0.3431\n"
          ]
        }
      ],
      "source": [
        "from pypots.optim import Adam\n",
        "from pypots.imputation import TimesNet\n",
        "from pypots.nn.functional import calc_mae\n",
        "\n",
        "# initialize the model\n",
        "timesnet = TimesNet(\n",
        "    n_steps=physionet2012_dataset['n_steps'],\n",
        "    n_features=physionet2012_dataset['n_features'],\n",
        "    n_layers=1,\n",
        "    top_k=1,\n",
        "    d_model=128,\n",
        "    d_ffn=512,\n",
        "    n_kernels=5,\n",
        "    dropout=0.5,\n",
        "    apply_nonstationary_norm=False,\n",
        "    batch_size=32,\n",
        "    # here we set epochs=10 for a quick demo, you can set it to 100 or more for better performance\n",
        "    epochs=10,\n",
        "    # here we set patience=3 to early stop the training if the evaluting loss doesn't decrease for 3 epoches.\n",
        "    # You can leave it to defualt as None to disable early stopping.\n",
        "    patience=3,\n",
        "    # give the optimizer. Different from torch.optim.Optimizer, you don't have to specify model's parameters when\n",
        "    # initializing pypots.optim.Optimizer. You can also leave it to default. It will initilize an Adam optimizer with lr=0.001.\n",
        "    optimizer=Adam(lr=1e-3),\n",
        "    # this num_workers argument is for torch.utils.data.Dataloader. It's the number of subprocesses to use for data loading.\n",
        "    # Leaving it to default as 0 means data loading will be in the main process, i.e. there won't be subprocesses.\n",
        "    # You can increase it to >1 if you think your dataloading is a bottleneck to your model training speed\n",
        "    num_workers=0,\n",
        "    # just leave it to default as None, PyPOTS will automatically assign the best device for you.\n",
        "    # Set it as 'cpu' if you don't have CUDA devices. You can also set it to 'cuda:0' or 'cuda:1' if you have multiple CUDA devices, even parallelly on ['cuda:0', 'cuda:1']\n",
        "    device=None,\n",
        "    # set the path for saving tensorboard and trained model files\n",
        "    saving_path=\"tutorial_results/imputation/timesnet\",\n",
        "    # only save the best model after training finished.\n",
        "    # You can also set it as \"better\" to save models performing better ever during training.\n",
        "    model_saving_strategy=\"best\",\n",
        ")\n",
        "\n",
        "\n",
        "# train the model on the training set, and validate it on the validating set to select the best model for testing in the next step\n",
        "timesnet.fit(train_set=dataset_for_training, val_set=dataset_for_validating)\n",
        "\n",
        "# the testing stage, impute the originally-missing values and artificially-missing values in the test set\n",
        "timesnet_results = timesnet.predict(dataset_for_testing)\n",
        "timesnet_imputation = timesnet_results[\"imputation\"]\n",
        "\n",
        "# calculate mean absolute error on the ground truth (artificially-missing values)\n",
        "testing_mae = calc_mae(\n",
        "    timesnet_imputation,\n",
        "    test_X_ori,\n",
        "    test_X_indicating_mask,\n",
        ")\n",
        "print(f\"Testing mean absolute error: {testing_mae:.4f}\")\n"
      ]
    },
    {
      "cell_type": "markdown",
      "metadata": {
        "id": "YDD1__JXOffB"
      },
      "source": [
        "### 🚀 An example of **CSDI** for imputation"
      ]
    },
    {
      "cell_type": "code",
      "execution_count": null,
      "metadata": {
        "colab": {
          "base_uri": "https://localhost:8080/"
        },
        "id": "C9HnXB8QO0Zp",
        "outputId": "51d9ab63-a6c7-40bb-989a-bb250253d012"
      },
      "outputs": [
        {
          "name": "stderr",
          "output_type": "stream",
          "text": [
            "2025-03-18 08:58:54 [INFO]: No given device, using default device: cuda\n",
            "2025-03-18 08:58:54 [INFO]: Model files will be saved to tutorial_results/imputation/csdi/20250318_T085854\n",
            "2025-03-18 08:58:54 [INFO]: Tensorboard file will be saved to tutorial_results/imputation/csdi/20250318_T085854/tensorboard\n",
            "/data/miniconda3/envs/workshop/lib/python3.12/site-packages/torch/nn/modules/transformer.py:385: UserWarning: enable_nested_tensor is True, but self.use_nested_tensor is False because encoder_layer.self_attn.batch_first was not True(use batch_first for better inference performance)\n",
            "  warnings.warn(\n",
            "2025-03-18 08:58:55 [INFO]: CSDI initialized with the given hyperparameters, the number of trainable parameters: 1,694,753\n",
            "2025-03-18 08:59:33 [INFO]: Epoch 001 - training loss (default): 0.4213, validation metric (default): 0.3410\n",
            "2025-03-18 09:00:12 [INFO]: Epoch 002 - training loss (default): 0.3183, validation metric (default): 0.2973\n",
            "2025-03-18 09:00:51 [INFO]: Epoch 003 - training loss (default): 0.2879, validation metric (default): 0.2467\n",
            "2025-03-18 09:01:30 [INFO]: Epoch 004 - training loss (default): 0.2695, validation metric (default): 0.2378\n",
            "2025-03-18 09:02:09 [INFO]: Epoch 005 - training loss (default): 0.2495, validation metric (default): 0.2197\n",
            "2025-03-18 09:02:48 [INFO]: Epoch 006 - training loss (default): 0.2502, validation metric (default): 0.2180\n",
            "2025-03-18 09:03:27 [INFO]: Epoch 007 - training loss (default): 0.2390, validation metric (default): 0.2210\n",
            "2025-03-18 09:04:06 [INFO]: Epoch 008 - training loss (default): 0.2482, validation metric (default): 0.2082\n",
            "2025-03-18 09:04:45 [INFO]: Epoch 009 - training loss (default): 0.2509, validation metric (default): 0.2047\n",
            "2025-03-18 09:05:24 [INFO]: Epoch 010 - training loss (default): 0.2479, validation metric (default): 0.2034\n",
            "2025-03-18 09:05:24 [INFO]: Finished training. The best model is from epoch#10.\n",
            "2025-03-18 09:05:24 [INFO]: Saved the model to tutorial_results/imputation/csdi/20250318_T085854/CSDI.pypots\n"
          ]
        },
        {
          "name": "stdout",
          "output_type": "stream",
          "text": [
            "The shape of csdi_imputation is (800, 2, 48, 37)\n",
            "Testing mean absolute error: 0.3183\n"
          ]
        }
      ],
      "source": [
        "from pypots.optim import Adam\n",
        "from pypots.imputation import CSDI\n",
        "from pypots.nn.functional import calc_mae\n",
        "\n",
        "# initialize the model\n",
        "csdi = CSDI(\n",
        "    n_steps=physionet2012_dataset['n_steps'],\n",
        "    n_features=physionet2012_dataset['n_features'],\n",
        "    n_layers=6,\n",
        "    n_heads=2,\n",
        "    n_channels=128,\n",
        "    d_time_embedding=64,\n",
        "    d_feature_embedding=32,\n",
        "    d_diffusion_embedding=128,\n",
        "    target_strategy=\"random\",\n",
        "    n_diffusion_steps=50,\n",
        "    batch_size=32,\n",
        "    # here we set epochs=10 for a quick demo, you can set it to 100 or more for better performance\n",
        "    epochs=10,\n",
        "    # here we set patience=3 to early stop the training if the evaluting loss doesn't decrease for 3 epoches.\n",
        "    # You can leave it to defualt as None to disable early stopping.\n",
        "    patience=3,\n",
        "    # give the optimizer. Different from torch.optim.Optimizer, you don't have to specify model's parameters when\n",
        "    # initializing pypots.optim.Optimizer. You can also leave it to default. It will initilize an Adam optimizer with lr=0.001.\n",
        "    optimizer=Adam(lr=1e-3),\n",
        "    # this num_workers argument is for torch.utils.data.Dataloader. It's the number of subprocesses to use for data loading.\n",
        "    # Leaving it to default as 0 means data loading will be in the main process, i.e. there won't be subprocesses.\n",
        "    # You can increase it to >1 if you think your dataloading is a bottleneck to your model training speed\n",
        "    num_workers=0,\n",
        "    # just leave it to default as None, PyPOTS will automatically assign the best device for you.\n",
        "    # Set it as 'cpu' if you don't have CUDA devices. You can also set it to 'cuda:0' or 'cuda:1' if you have multiple CUDA devices, even parallelly on ['cuda:0', 'cuda:1']\n",
        "    device=None,\n",
        "    # set the path for saving tensorboard and trained model files\n",
        "    saving_path=\"tutorial_results/imputation/csdi\",\n",
        "    # only save the best model after training finished.\n",
        "    # You can also set it as \"better\" to save models performing better ever during training.\n",
        "    model_saving_strategy=\"best\",\n",
        ")\n",
        "\n",
        "\n",
        "# train the model on the training set, and validate it on the validating set to select the best model for testing in the next step\n",
        "csdi.fit(train_set=dataset_for_training, val_set=dataset_for_validating)\n",
        "\n",
        "# the testing stage, impute the originally-missing values and artificially-missing values in the test set\n",
        "\n",
        "# CSDI has an argument to control the number of sampling times during inference\n",
        "csdi_results = csdi.predict(dataset_for_testing, n_sampling_times=2)\n",
        "csdi_imputation = csdi_results[\"imputation\"]\n",
        "\n",
        "print(f\"The shape of csdi_imputation is {csdi_imputation.shape}\")\n",
        "\n",
        "# for error calculation, we need to take the mean value of the multiple samplings for each data sample\n",
        "mean_csdi_imputation = csdi_imputation.mean(axis=1)\n",
        "\n",
        "# calculate mean absolute error on the ground truth (artificially-missing values)\n",
        "testing_mae = calc_mae(\n",
        "    mean_csdi_imputation,\n",
        "    test_X_ori,\n",
        "    test_X_indicating_mask,\n",
        ")\n",
        "print(f\"Testing mean absolute error: {testing_mae:.4f}\")\n"
      ]
    },
    {
      "cell_type": "markdown",
      "metadata": {
        "id": "DYMR2zc-XLEZ"
      },
      "source": [
        "### 🚀 An example of **US-GAN** for imputation"
      ]
    },
    {
      "cell_type": "code",
      "execution_count": null,
      "metadata": {
        "id": "0a0Fee8IXN-3"
      },
      "outputs": [
        {
          "name": "stderr",
          "output_type": "stream",
          "text": [
            "2025-03-18 09:06:40 [INFO]: No given device, using default device: cuda\n",
            "2025-03-18 09:06:40 [INFO]: Model files will be saved to tutorial_results/imputation/us_gan/20250318_T090640\n",
            "2025-03-18 09:06:40 [INFO]: Tensorboard file will be saved to tutorial_results/imputation/us_gan/20250318_T090640/tensorboard\n",
            "2025-03-18 09:06:40 [INFO]: USGAN initialized with the given hyperparameters, the number of trainable parameters: 1,258,517\n",
            "2025-03-18 09:07:06 [INFO]: Epoch 001 - generator training loss: 0.5029, discriminator training loss: 0.3133, validation loss: 0.4255\n",
            "2025-03-18 09:07:28 [INFO]: Epoch 002 - generator training loss: 0.4076, discriminator training loss: 0.1539, validation loss: 0.3910\n",
            "2025-03-18 09:07:50 [INFO]: Epoch 003 - generator training loss: 0.4065, discriminator training loss: 0.0873, validation loss: 0.3649\n",
            "2025-03-18 09:08:12 [INFO]: Epoch 004 - generator training loss: 0.3895, discriminator training loss: 0.0631, validation loss: 0.3437\n",
            "2025-03-18 09:08:34 [INFO]: Epoch 005 - generator training loss: 0.3717, discriminator training loss: 0.0510, validation loss: 0.3283\n",
            "2025-03-18 09:08:55 [INFO]: Epoch 006 - generator training loss: 0.3573, discriminator training loss: 0.0435, validation loss: 0.3188\n",
            "2025-03-18 09:09:16 [INFO]: Epoch 007 - generator training loss: 0.3470, discriminator training loss: 0.0388, validation loss: 0.3059\n",
            "2025-03-18 09:09:36 [INFO]: Epoch 008 - generator training loss: 0.3385, discriminator training loss: 0.0353, validation loss: 0.3023\n",
            "2025-03-18 09:09:57 [INFO]: Epoch 009 - generator training loss: 0.3297, discriminator training loss: 0.0333, validation loss: 0.2953\n",
            "2025-03-18 09:10:17 [INFO]: Epoch 010 - generator training loss: 0.3191, discriminator training loss: 0.0311, validation loss: 0.3015\n",
            "2025-03-18 09:10:17 [INFO]: Finished training. The best model is from epoch#9.\n",
            "2025-03-18 09:10:17 [INFO]: Saved the model to tutorial_results/imputation/us_gan/20250318_T090640/USGAN.pypots\n"
          ]
        },
        {
          "name": "stdout",
          "output_type": "stream",
          "text": [
            "Testing mean absolute error: 0.3272\n"
          ]
        }
      ],
      "source": [
        "from pypots.optim import Adam\n",
        "from pypots.imputation import USGAN\n",
        "from pypots.nn.functional import calc_mae\n",
        "\n",
        "# initialize the model\n",
        "us_gan = USGAN(\n",
        "    n_steps=physionet2012_dataset['n_steps'],\n",
        "    n_features=physionet2012_dataset['n_features'],\n",
        "    rnn_hidden_size=256,\n",
        "    lambda_mse=1,\n",
        "    dropout=0.1,\n",
        "    G_steps=1,\n",
        "    D_steps=1,\n",
        "    batch_size=32,\n",
        "    # here we set epochs=10 for a quick demo, you can set it to 100 or more for better performance\n",
        "    epochs=10,\n",
        "    # here we set patience=3 to early stop the training if the evaluting loss doesn't decrease for 3 epoches.\n",
        "    # You can leave it to defualt as None to disable early stopping.\n",
        "    patience=3,\n",
        "    # give the optimizer. Different from torch.optim.Optimizer, you don't have to specify model's parameters when\n",
        "    # initializing pypots.optim.Optimizer. You can also leave it to default. It will initilize an Adam optimizer with lr=0.001.\n",
        "    G_optimizer=Adam(lr=1e-3),\n",
        "    D_optimizer=Adam(lr=1e-3),\n",
        "    # this num_workers argument is for torch.utils.data.Dataloader. It's the number of subprocesses to use for data loading.\n",
        "    # Leaving it to default as 0 means data loading will be in the main process, i.e. there won't be subprocesses.\n",
        "    # You can increase it to >1 if you think your dataloading is a bottleneck to your model training speed\n",
        "    num_workers=0,\n",
        "    # just leave it to default as None, PyPOTS will automatically assign the best device for you.\n",
        "    # Set it as 'cpu' if you don't have CUDA devices. You can also set it to 'cuda:0' or 'cuda:1' if you have multiple CUDA devices, even parallelly on ['cuda:0', 'cuda:1']\n",
        "    device=None,\n",
        "    # set the path for saving tensorboard and trained model files\n",
        "    saving_path=\"tutorial_results/imputation/us_gan\",\n",
        "    # only save the best model after training finished.\n",
        "    # You can also set it as \"better\" to save models performing better ever during training.\n",
        "    model_saving_strategy=\"best\",\n",
        ")\n",
        "\n",
        "\n",
        "# train the model on the training set, and validate it on the validating set to select the best model for testing in the next step\n",
        "us_gan.fit(train_set=dataset_for_training, val_set=dataset_for_validating)\n",
        "\n",
        "# the testing stage, impute the originally-missing values and artificially-missing values in the test set\n",
        "us_gan_results = us_gan.predict(dataset_for_testing)\n",
        "us_gan_imputation = us_gan_results[\"imputation\"]\n",
        "\n",
        "# calculate mean absolute error on the ground truth (artificially-missing values)\n",
        "testing_mae = calc_mae(\n",
        "    us_gan_imputation,\n",
        "    test_X_ori,\n",
        "    test_X_indicating_mask,\n",
        ")\n",
        "print(f\"Testing mean absolute error: {testing_mae:.4f}\")\n"
      ]
    },
    {
      "cell_type": "markdown",
      "metadata": {
        "id": "yu0i4NwXXXuG"
      },
      "source": [
        "### 🚀 An example of **GP-VAE** for imputation"
      ]
    },
    {
      "cell_type": "code",
      "execution_count": null,
      "metadata": {
        "id": "iv-1DSSCXaS-"
      },
      "outputs": [
        {
          "name": "stderr",
          "output_type": "stream",
          "text": [
            "2025-03-18 09:10:20 [INFO]: No given device, using default device: cuda\n",
            "2025-03-18 09:10:20 [INFO]: Model files will be saved to tutorial_results/imputation/gp_vae/20250318_T091020\n",
            "2025-03-18 09:10:20 [INFO]: Tensorboard file will be saved to tutorial_results/imputation/gp_vae/20250318_T091020/tensorboard\n",
            "2025-03-18 09:10:20 [INFO]: GPVAE initialized with the given hyperparameters, the number of trainable parameters: 229,652\n",
            "2025-03-18 09:10:21 [INFO]: Epoch 001 - training loss (NoneType): 32210.9857, validation NoneType: 0.6154\n",
            "2025-03-18 09:10:22 [INFO]: Epoch 002 - training loss (NoneType): 23158.1282, validation NoneType: 0.6062\n",
            "2025-03-18 09:10:23 [INFO]: Epoch 003 - training loss (NoneType): 22965.8687, validation NoneType: 0.6015\n",
            "2025-03-18 09:10:23 [INFO]: Epoch 004 - training loss (NoneType): 22895.7626, validation NoneType: 0.6045\n",
            "2025-03-18 09:10:24 [INFO]: Epoch 005 - training loss (NoneType): 22867.6528, validation NoneType: 0.5943\n",
            "2025-03-18 09:10:25 [INFO]: Epoch 006 - training loss (NoneType): 22854.6742, validation NoneType: 0.6222\n",
            "2025-03-18 09:10:26 [INFO]: Epoch 007 - training loss (NoneType): 22848.2731, validation NoneType: 0.5793\n",
            "2025-03-18 09:10:26 [INFO]: Epoch 008 - training loss (NoneType): 22840.3008, validation NoneType: 0.5731\n",
            "2025-03-18 09:10:27 [INFO]: Epoch 009 - training loss (NoneType): 22835.1938, validation NoneType: 0.5675\n",
            "2025-03-18 09:10:28 [INFO]: Epoch 010 - training loss (NoneType): 22832.6950, validation NoneType: 0.5569\n",
            "2025-03-18 09:10:28 [INFO]: Finished training. The best model is from epoch#10.\n",
            "2025-03-18 09:10:28 [INFO]: Saved the model to tutorial_results/imputation/gp_vae/20250318_T091020/GPVAE.pypots\n"
          ]
        },
        {
          "name": "stdout",
          "output_type": "stream",
          "text": [
            "The shape of gp_vae_imputation is (800, 2, 48, 37)\n",
            "Testing mean absolute error: 0.5201\n"
          ]
        }
      ],
      "source": [
        "from pypots.optim import Adam\n",
        "from pypots.imputation import GPVAE\n",
        "from pypots.nn.functional import calc_mae\n",
        "\n",
        "\n",
        "# initialize the model\n",
        "gp_vae = GPVAE(\n",
        "    n_steps=physionet2012_dataset['n_steps'],\n",
        "    n_features=physionet2012_dataset['n_features'],\n",
        "    latent_size=37,\n",
        "    encoder_sizes=(128,128),\n",
        "    decoder_sizes=(256,256),\n",
        "    kernel=\"cauchy\",\n",
        "    beta=0.2,\n",
        "    M=1,\n",
        "    K=1,\n",
        "    sigma=1.005,\n",
        "    length_scale=7.0,\n",
        "    kernel_scales=1,\n",
        "    window_size=24,\n",
        "    batch_size=32,\n",
        "    # here we set epochs=10 for a quick demo, you can set it to 100 or more for better performance\n",
        "    epochs=10,\n",
        "    # here we set patience=3 to early stop the training if the evaluting loss doesn't decrease for 3 epoches.\n",
        "    # You can leave it to defualt as None to disable early stopping.\n",
        "    patience=3,\n",
        "    # give the optimizer. Different from torch.optim.Optimizer, you don't have to specify model's parameters when\n",
        "    # initializing pypots.optim.Optimizer. You can also leave it to default. It will initilize an Adam optimizer with lr=0.001.\n",
        "    optimizer=Adam(lr=1e-3),\n",
        "    # this num_workers argument is for torch.utils.data.Dataloader. It's the number of subprocesses to use for data loading.\n",
        "    # Leaving it to default as 0 means data loading will be in the main process, i.e. there won't be subprocesses.\n",
        "    # You can increase it to >1 if you think your dataloading is a bottleneck to your model training speed\n",
        "    num_workers=0,\n",
        "    # just leave it to default as None, PyPOTS will automatically assign the best device for you.\n",
        "    # Set it as 'cpu' if you don't have CUDA devices. You can also set it to 'cuda:0' or 'cuda:1' if you have multiple CUDA devices, even parallelly on ['cuda:0', 'cuda:1']\n",
        "    device=None,\n",
        "    # set the path for saving tensorboard and trained model files\n",
        "    saving_path=\"tutorial_results/imputation/gp_vae\",\n",
        "    # only save the best model after training finished.\n",
        "    # You can also set it as \"better\" to save models performing better ever during training.\n",
        "    model_saving_strategy=\"best\",\n",
        ")\n",
        "\n",
        "# train the model on the training set, and validate it on the validating set to select the best model for testing in the next step\n",
        "gp_vae.fit(train_set=dataset_for_training, val_set=dataset_for_validating)\n",
        "\n",
        "# the testing stage, impute the originally-missing values and artificially-missing values in the test set\n",
        "\n",
        "# GP-VAE has an argument to control the number of sampling times during inference\n",
        "gp_vae_results = gp_vae.predict(dataset_for_testing, n_sampling_times=2)\n",
        "gp_vae_imputation = gp_vae_results[\"imputation\"]\n",
        "\n",
        "print(f\"The shape of gp_vae_imputation is {gp_vae_imputation.shape}\")\n",
        "\n",
        "# for error calculation, we need to take the mean value of the multiple samplings for each data sample\n",
        "mean_gp_vae_imputation = gp_vae_imputation.mean(axis=1)\n",
        "\n",
        "# calculate mean absolute error on the ground truth (artificially-missing values)\n",
        "testing_mae = calc_mae(\n",
        "    mean_gp_vae_imputation,\n",
        "    test_X_ori,\n",
        "    test_X_indicating_mask,\n",
        ")\n",
        "print(f\"Testing mean absolute error: {testing_mae:.4f}\")\n"
      ]
    },
    {
      "cell_type": "markdown",
      "metadata": {
        "id": "GGL2QaXl-nm3"
      },
      "source": [
        "### 🚀 An example of **BRITS** for imputation"
      ]
    },
    {
      "cell_type": "code",
      "execution_count": null,
      "metadata": {
        "id": "Tgbgou-_-qMl"
      },
      "outputs": [
        {
          "name": "stderr",
          "output_type": "stream",
          "text": [
            "2025-03-18 09:10:28 [INFO]: No given device, using default device: cuda\n",
            "2025-03-18 09:10:28 [INFO]: Model files will be saved to tutorial_results/imputation/brits/20250318_T091028\n",
            "2025-03-18 09:10:28 [INFO]: Tensorboard file will be saved to tutorial_results/imputation/brits/20250318_T091028/tensorboard\n",
            "2025-03-18 09:10:28 [INFO]: Using customized MAE as the training loss function.\n",
            "2025-03-18 09:10:28 [INFO]: Using customized MSE as the validation metric function.\n",
            "2025-03-18 09:10:28 [INFO]: BRITS initialized with the given hyperparameters, the number of trainable parameters: 239,344\n",
            "2025-03-18 09:10:46 [INFO]: Epoch 001 - training loss (MAE): 1.1426, validation MSE: 0.4710\n",
            "2025-03-18 09:11:02 [INFO]: Epoch 002 - training loss (MAE): 0.8812, validation MSE: 0.4019\n",
            "2025-03-18 09:11:17 [INFO]: Epoch 003 - training loss (MAE): 0.8085, validation MSE: 0.3653\n",
            "2025-03-18 09:11:32 [INFO]: Epoch 004 - training loss (MAE): 0.7641, validation MSE: 0.3371\n",
            "2025-03-18 09:11:48 [INFO]: Epoch 005 - training loss (MAE): 0.7329, validation MSE: 0.3228\n",
            "2025-03-18 09:12:03 [INFO]: Epoch 006 - training loss (MAE): 0.7114, validation MSE: 0.3141\n",
            "2025-03-18 09:12:18 [INFO]: Epoch 007 - training loss (MAE): 0.6956, validation MSE: 0.3068\n",
            "2025-03-18 09:12:33 [INFO]: Epoch 008 - training loss (MAE): 0.6845, validation MSE: 0.3045\n",
            "2025-03-18 09:12:49 [INFO]: Epoch 009 - training loss (MAE): 0.6743, validation MSE: 0.2993\n",
            "2025-03-18 09:13:04 [INFO]: Epoch 010 - training loss (MAE): 0.6663, validation MSE: 0.2981\n",
            "2025-03-18 09:13:04 [INFO]: Finished training. The best model is from epoch#10.\n",
            "2025-03-18 09:13:04 [INFO]: Saved the model to tutorial_results/imputation/brits/20250318_T091028/BRITS.pypots\n"
          ]
        },
        {
          "name": "stdout",
          "output_type": "stream",
          "text": [
            "Testing mean absolute error: 0.2920\n"
          ]
        }
      ],
      "source": [
        "from pypots.optim import Adam\n",
        "from pypots.imputation import BRITS\n",
        "from pypots.nn.functional import calc_mae\n",
        "\n",
        "# initialize the model\n",
        "brits = BRITS(\n",
        "    n_steps=physionet2012_dataset['n_steps'],\n",
        "    n_features=physionet2012_dataset['n_features'],\n",
        "    rnn_hidden_size=128,\n",
        "    batch_size=32,\n",
        "    # here we set epochs=10 for a quick demo, you can set it to 100 or more for better performance\n",
        "    epochs=10,\n",
        "    # here we set patience=3 to early stop the training if the evaluting loss doesn't decrease for 3 epoches.\n",
        "    # You can leave it to defualt as None to disable early stopping.\n",
        "    patience=3,\n",
        "    # give the optimizer. Different from torch.optim.Optimizer, you don't have to specify model's parameters when\n",
        "    # initializing pypots.optim.Optimizer. You can also leave it to default. It will initilize an Adam optimizer with lr=0.001.\n",
        "    optimizer=Adam(lr=1e-3),\n",
        "    # this num_workers argument is for torch.utils.data.Dataloader. It's the number of subprocesses to use for data loading.\n",
        "    # Leaving it to default as 0 means data loading will be in the main process, i.e. there won't be subprocesses.\n",
        "    # You can increase it to >1 if you think your dataloading is a bottleneck to your model training speed\n",
        "    num_workers=0,\n",
        "    # just leave it to default as None, PyPOTS will automatically assign the best device for you.\n",
        "    # Set it as 'cpu' if you don't have CUDA devices. You can also set it to 'cuda:0' or 'cuda:1' if you have multiple CUDA devices, even parallelly on ['cuda:0', 'cuda:1']\n",
        "    device=None,\n",
        "    # set the path for saving tensorboard and trained model files\n",
        "    saving_path=\"tutorial_results/imputation/brits\",\n",
        "    # only save the best model after training finished.\n",
        "    # You can also set it as \"better\" to save models performing better ever during training.\n",
        "    model_saving_strategy=\"best\",\n",
        ")\n",
        "\n",
        "# train the model on the training set, and validate it on the validating set to select the best model for testing in the next step\n",
        "brits.fit(train_set=dataset_for_training, val_set=dataset_for_validating)\n",
        "\n",
        "# the testing stage, impute the originally-missing values and artificially-missing values in the test set\n",
        "brits_results = brits.predict(dataset_for_testing)\n",
        "brits_imputation = brits_results[\"imputation\"]\n",
        "\n",
        "# calculate mean absolute error on the ground truth (artificially-missing values)\n",
        "testing_mae = calc_mae(\n",
        "    brits_imputation,\n",
        "    test_X_ori,\n",
        "    test_X_indicating_mask,\n",
        ")\n",
        "print(f\"Testing mean absolute error: {testing_mae:.4f}\")\n"
      ]
    },
    {
      "cell_type": "markdown",
      "metadata": {
        "id": "uPw7U1AgYmbK"
      },
      "source": [
        "### 🚀 An example of **M-RNN** for imputation"
      ]
    },
    {
      "cell_type": "code",
      "execution_count": null,
      "metadata": {
        "id": "gruCE389YpF-"
      },
      "outputs": [
        {
          "name": "stderr",
          "output_type": "stream",
          "text": [
            "2025-03-18 09:13:07 [INFO]: No given device, using default device: cuda\n",
            "2025-03-18 09:13:07 [INFO]: Model files will be saved to tutorial_results/imputation/mrnn/20250318_T091307\n",
            "2025-03-18 09:13:07 [INFO]: Tensorboard file will be saved to tutorial_results/imputation/mrnn/20250318_T091307/tensorboard\n",
            "2025-03-18 09:13:07 [INFO]: Using customized RMSE as the training loss function.\n",
            "2025-03-18 09:13:07 [INFO]: Using customized MSE as the validation metric function.\n",
            "2025-03-18 09:13:07 [INFO]: MRNN initialized with the given hyperparameters, the number of trainable parameters: 107,951\n",
            "2025-03-18 09:13:14 [INFO]: Epoch 001 - training loss (RMSE): 1.1120, validation MSE: 0.9538\n",
            "2025-03-18 09:13:19 [INFO]: Epoch 002 - training loss (RMSE): 0.6179, validation MSE: 0.9220\n",
            "2025-03-18 09:13:22 [INFO]: Epoch 003 - training loss (RMSE): 0.5768, validation MSE: 0.8962\n",
            "2025-03-18 09:13:27 [INFO]: Epoch 004 - training loss (RMSE): 0.5403, validation MSE: 0.8776\n",
            "2025-03-18 09:13:31 [INFO]: Epoch 005 - training loss (RMSE): 0.5487, validation MSE: 0.8651\n",
            "2025-03-18 09:13:35 [INFO]: Epoch 006 - training loss (RMSE): 0.5169, validation MSE: 0.8625\n",
            "2025-03-18 09:13:40 [INFO]: Epoch 007 - training loss (RMSE): 0.4929, validation MSE: 0.8531\n",
            "2025-03-18 09:13:44 [INFO]: Epoch 008 - training loss (RMSE): 0.4833, validation MSE: 0.8487\n",
            "2025-03-18 09:13:49 [INFO]: Epoch 009 - training loss (RMSE): 0.4890, validation MSE: 0.8446\n",
            "2025-03-18 09:13:53 [INFO]: Epoch 010 - training loss (RMSE): 0.4745, validation MSE: 0.8415\n",
            "2025-03-18 09:13:53 [INFO]: Finished training. The best model is from epoch#10.\n",
            "2025-03-18 09:13:53 [INFO]: Saved the model to tutorial_results/imputation/mrnn/20250318_T091307/MRNN.pypots\n"
          ]
        },
        {
          "name": "stdout",
          "output_type": "stream",
          "text": [
            "Testing mean absolute error: 0.6925\n"
          ]
        }
      ],
      "source": [
        "from pypots.optim import Adam\n",
        "from pypots.imputation import MRNN\n",
        "from pypots.nn.functional import calc_mae\n",
        "\n",
        "# initialize the model\n",
        "# initialize the model\n",
        "mrnn = MRNN(\n",
        "    n_steps=physionet2012_dataset['n_steps'],\n",
        "    n_features=physionet2012_dataset['n_features'],\n",
        "    rnn_hidden_size=128,\n",
        "\n",
        "    # here we set epochs=10 for a quick demo, you can set it to 100 or more for better performance\n",
        "    epochs=10,\n",
        "    # here we set patience=3 to early stop the training if the evaluting loss doesn't decrease for 3 epoches.\n",
        "    # You can leave it to defualt as None to disable early stopping.\n",
        "    patience=3,\n",
        "    # give the optimizer. Different from torch.optim.Optimizer, you don't have to specify model's parameters when\n",
        "    # initializing pypots.optim.Optimizer. You can also leave it to default. It will initilize an Adam optimizer with lr=0.001.\n",
        "    optimizer=Adam(lr=1e-3),\n",
        "    # this num_workers argument is for torch.utils.data.Dataloader. It's the number of subprocesses to use for data loading.\n",
        "    # Leaving it to default as 0 means data loading will be in the main process, i.e. there won't be subprocesses.\n",
        "    # You can increase it to >1 if you think your dataloading is a bottleneck to your model training speed\n",
        "    num_workers=0,\n",
        "    # just leave it to default as None, PyPOTS will automatically assign the best device for you.\n",
        "    # Set it as 'cpu' if you don't have CUDA devices. You can also set it to 'cuda:0' or 'cuda:1' if you have multiple CUDA devices, even parallelly on ['cuda:0', 'cuda:1']\n",
        "    device=None,\n",
        "    # set the path for saving tensorboard and trained model files\n",
        "    saving_path=\"tutorial_results/imputation/mrnn\",\n",
        "    # only save the best model after training finished.\n",
        "    # You can also set it as \"better\" to save models performing better ever during training.\n",
        "    model_saving_strategy=\"best\",\n",
        ")\n",
        "\n",
        "# train the model on the training set, and validate it on the validating set to select the best model for testing in the next step\n",
        "mrnn.fit(train_set=dataset_for_training, val_set=dataset_for_validating)\n",
        "\n",
        "# the testing stage, impute the originally-missing values and artificially-missing values in the test set\n",
        "mrnn_results = mrnn.predict(dataset_for_testing)\n",
        "mrnn_imputation = mrnn_results[\"imputation\"]\n",
        "\n",
        "# calculate mean absolute error on the ground truth (artificially-missing values)\n",
        "testing_mae = calc_mae(\n",
        "    mrnn_imputation,\n",
        "    test_X_ori,\n",
        "    test_X_indicating_mask,\n",
        ")\n",
        "print(f\"Testing mean absolute error: {testing_mae:.4f}\")\n"
      ]
    },
    {
      "cell_type": "markdown",
      "metadata": {
        "id": "14XhW8yN-3gl"
      },
      "source": [
        "### 🚀 An example of **LOCF** for imputation"
      ]
    },
    {
      "cell_type": "code",
      "execution_count": 16,
      "metadata": {
        "id": "qZS5aP2j-5TE"
      },
      "outputs": [
        {
          "name": "stderr",
          "output_type": "stream",
          "text": [
            "2025-03-18 09:17:51 [INFO]: No given device, using default device: cuda\n"
          ]
        },
        {
          "name": "stdout",
          "output_type": "stream",
          "text": [
            "Testing mean absolute error: 0.4183\n"
          ]
        },
        {
          "name": "stderr",
          "output_type": "stream",
          "text": [
            "/data/miniconda3/envs/workshop/lib/python3.12/site-packages/pypots/imputation/locf/model.py:67: UserWarning: LOCF (Last Observed Carried Forward) imputation class has no parameter to train. Please run func `predict()` directly.\n",
            "  warnings.warn(\n"
          ]
        }
      ],
      "source": [
        "from pypots.imputation import LOCF\n",
        "from pypots.nn.functional import calc_mae\n",
        "\n",
        "from pypots.imputation import LOCF\n",
        "\n",
        "# initialize the model\n",
        "locf = LOCF()\n",
        "\n",
        "# LOCF doesn't need to be trained, just call the impute() function\n",
        "locf.fit(train_set=dataset_for_training, val_set=dataset_for_validating)\n",
        "\n",
        "# the testing stage, impute the originally-missing values and artificially-missing values in the test set\n",
        "locf_results = locf.predict(dataset_for_testing)\n",
        "locf_imputation = locf_results[\"imputation\"]\n",
        "\n",
        "# calculate mean absolute error on the ground truth (artificially-missing values)\n",
        "testing_mae = calc_mae(\n",
        "    locf_imputation,\n",
        "    test_X_ori,\n",
        "    test_X_indicating_mask,\n",
        ")\n",
        "print(f\"Testing mean absolute error: {testing_mae:.4f}\")\n"
      ]
    },
    {
      "cell_type": "markdown",
      "metadata": {
        "id": "H4bU3eZY_-01"
      },
      "source": [
        "## 🌟 Clustering Models"
      ]
    },
    {
      "cell_type": "code",
      "execution_count": 3,
      "metadata": {
        "id": "udnvIVuUADBU"
      },
      "outputs": [],
      "source": [
        "# Assemble the datasets for training, validating, and testing.\n",
        "import numpy as np\n",
        "\n",
        "# don't need validation set\n",
        "dataset_for_training = {\n",
        "    \"X\": np.concatenate([physionet2012_dataset['train_X'], physionet2012_dataset['val_X']], axis=0),\n",
        "    \"y\": np.concatenate([physionet2012_dataset['train_y'], physionet2012_dataset['val_y']], axis=0),\n",
        "}\n",
        "\n",
        "dataset_for_testing = {\n",
        "    \"X\": physionet2012_dataset['test_X'],\n",
        "    \"y\": physionet2012_dataset['test_y'],\n",
        "}\n"
      ]
    },
    {
      "cell_type": "markdown",
      "metadata": {
        "id": "QvyVryEwAEEk"
      },
      "source": [
        "### 🚀 An example of **CRLI** for clustering"
      ]
    },
    {
      "cell_type": "code",
      "execution_count": 4,
      "metadata": {
        "id": "SjdHa-fiAJbP"
      },
      "outputs": [
        {
          "name": "stderr",
          "output_type": "stream",
          "text": [
            "2025-03-18 09:27:47 [WARNING]: ‼️ `pypots.utils.metrics` is deprecated. Please import from `pypots.nn.functional` instead.\n",
            "2025-03-18 09:27:49 [INFO]: No given device, using default device: cuda\n",
            "2025-03-18 09:27:49 [INFO]: Model files will be saved to tutorial_results/clustering/crli/20250318_T092749\n",
            "2025-03-18 09:27:49 [INFO]: Tensorboard file will be saved to tutorial_results/clustering/crli/20250318_T092749/tensorboard\n",
            "2025-03-18 09:27:49 [INFO]: CRLI initialized with the given hyperparameters, the number of trainable parameters: 1,546,820\n",
            "2025-03-18 09:28:13 [INFO]: Epoch 001 - generator training loss: 2.8936, discriminator training loss: 0.4627\n",
            "2025-03-18 09:28:35 [INFO]: Epoch 002 - generator training loss: 3.1197, discriminator training loss: 0.4078\n",
            "2025-03-18 09:28:57 [INFO]: Epoch 003 - generator training loss: 3.2158, discriminator training loss: 0.3884\n",
            "2025-03-18 09:29:20 [INFO]: Epoch 004 - generator training loss: 3.2620, discriminator training loss: 0.3784\n",
            "2025-03-18 09:29:20 [INFO]: Exceeded the training patience. Terminating the training procedure...\n",
            "2025-03-18 09:29:20 [INFO]: Finished training. The best model is from epoch#1.\n",
            "2025-03-18 09:29:20 [INFO]: Saved the model to tutorial_results/clustering/crli/20250318_T092749/CRLI.pypots\n"
          ]
        },
        {
          "name": "stdout",
          "output_type": "stream",
          "text": [
            "Testing clustering metrics: \n",
            "RI: 0.499386733416771, \n",
            "CP: 0.86125\n",
            "\n"
          ]
        }
      ],
      "source": [
        "from pypots.optim import Adam\n",
        "from pypots.clustering import CRLI\n",
        "from pypots.utils.metrics import calc_rand_index, calc_cluster_purity\n",
        "\n",
        "# initialize the model\n",
        "crli = CRLI(\n",
        "    n_steps=physionet2012_dataset[\"n_steps\"],\n",
        "    n_features=physionet2012_dataset[\"n_features\"],\n",
        "    n_clusters=physionet2012_dataset[\"n_classes\"],\n",
        "    n_generator_layers=2,\n",
        "    rnn_hidden_size=256,\n",
        "    rnn_cell_type=\"GRU\",\n",
        "    decoder_fcn_output_dims=[256, 128],  # the output dimensions of layers in the decoder FCN.\n",
        "    # Here means there are 3 layers. Leave it to default as None will results in\n",
        "    # the FCN haveing only one layer.\n",
        "    batch_size=32,\n",
        "    # here we set epochs=10 for a quick demo, you can set it to 100 or more for better performance\n",
        "    epochs=10,\n",
        "    # here we set patience=3 to early stop the training if the evaluting loss doesn't decrease for 3 epoches.\n",
        "    # You can leave it to defualt as None to disable early stopping.\n",
        "    patience=3,\n",
        "    # give the optimizer. Different from torch.optim.Optimizer, you don't have to specify model's parameters when\n",
        "    # initializing pypots.optim.Optimizer. You can also leave it to default. It will initilize an Adam optimizer with lr=0.001.\n",
        "    G_optimizer=Adam(lr=1e-3),\n",
        "    D_optimizer=Adam(lr=1e-3),\n",
        "    # this num_workers argument is for torch.utils.data.Dataloader. It's the number of subprocesses to use for data loading.\n",
        "    # Leaving it to default as 0 means data loading will be in the main process, i.e. there won't be subprocesses.\n",
        "    # You can increase it to >1 if you think your dataloading is a bottleneck to your model training speed\n",
        "    num_workers=0,\n",
        "    # just leave it to default as None, PyPOTS will automatically assign the best device for you.\n",
        "    # Set it as 'cpu' if you don't have CUDA devices. You can also set it to 'cuda:0' or 'cuda:1' if you have multiple CUDA devices, even parallelly on ['cuda:0', 'cuda:1']\n",
        "    device=None,\n",
        "    # set the path for saving tensorboard and trained model files\n",
        "    saving_path=\"tutorial_results/clustering/crli\",\n",
        "    # only save the best model after training finished.\n",
        "    # You can also set it as \"better\" to save models performing better ever during training.\n",
        "    model_saving_strategy=\"best\",\n",
        ")\n",
        "\n",
        "# train the model on the training set, and validate it on the validating set to select the best model for testing in the next step\n",
        "crli.fit(train_set=dataset_for_training)\n",
        "\n",
        "# the testing stage\n",
        "crli_results = crli.predict(dataset_for_testing)\n",
        "crli_clustering = crli_results[\"clustering\"]\n",
        "\n",
        "# calculate the values of clustering metrics on the model's prediction\n",
        "RI = calc_rand_index(crli_clustering, dataset_for_testing[\"y\"])\n",
        "CP = calc_cluster_purity(crli_clustering, dataset_for_testing[\"y\"])\n",
        "\n",
        "print(\"Testing clustering metrics: \\n\"\n",
        "      f'RI: {RI}, \\n'\n",
        "      f'CP: {CP}\\n'\n",
        ")\n"
      ]
    },
    {
      "cell_type": "code",
      "execution_count": null,
      "metadata": {},
      "outputs": [
        {
          "data": {
            "image/png": "[encoded data removed]",
            "text/plain": [
              "<Figure size 600x500 with 2 Axes>"
            ]
          },
          "metadata": {},
          "output_type": "display_data"
        },
        {
          "name": "stdout",
          "output_type": "stream",
          "text": [
            "Classification Report:\n",
            "               precision    recall  f1-score   support\n",
            "0              0.822616  0.538462  0.650877  689.0000\n",
            "1              0.088825  0.279279  0.134783  111.0000\n",
            "accuracy       0.502500  0.502500  0.502500    0.5025\n",
            "macro avg      0.455721  0.408870  0.392830  800.0000\n",
            "weighted avg   0.720803  0.502500  0.579269  800.0000\n",
            "Adjusted Rand Index (ARI): -0.0091\n"
          ]
        },
        {
          "data": {
            "image/png": "[encoded data removed]",
            "text/plain": [
              "<Figure size 600x500 with 1 Axes>"
            ]
          },
          "metadata": {},
          "output_type": "display_data"
        },
        {
          "data": {
            "image/png": "[encoded data removed]",
            "text/plain": [
              "<Figure size 500x500 with 1 Axes>"
            ]
          },
          "metadata": {},
          "output_type": "display_data"
        }
      ],
      "source": [
        "import numpy as np\n",
        "import matplotlib.pyplot as plt\n",
        "import seaborn as sns\n",
        "from sklearn.metrics import confusion_matrix, classification_report, adjusted_rand_score\n",
        "import pandas as pd\n",
        "from sklearn.metrics import roc_curve, auc\n",
        "from matplotlib_venn import venn2\n",
        "\n",
        "true_labels = np.array(dataset_for_testing[\"y\"]).flatten()\n",
        "cluster_labels = np.array(crli_clustering).flatten()\n",
        "\n",
        "# calculate the confusion matrix\n",
        "conf_matrix = confusion_matrix(true_labels, cluster_labels)\n",
        "\n",
        "# plot the confusion matrix\n",
        "plt.figure(figsize=(6,5))\n",
        "sns.heatmap(conf_matrix, annot=True, fmt=\"d\", cmap=\"Blues\", xticklabels=[0,1], yticklabels=[0,1])\n",
        "plt.xlabel(\"Predicted Cluster\")\n",
        "plt.ylabel(\"True Class\")\n",
        "plt.title(\"Confusion Matrix: Clustering vs. True Labels\")\n",
        "plt.show()\n",
        "\n",
        "# calculate the classification report\n",
        "report = classification_report(true_labels, cluster_labels, output_dict=True)\n",
        "report_df = pd.DataFrame(report).transpose()\n",
        "print(\"Classification Report:\\n\", report_df)\n",
        "\n",
        "# calculate the Adjusted Rand Index\n",
        "ari_score = adjusted_rand_score(true_labels, cluster_labels)\n",
        "print(f\"Adjusted Rand Index (ARI): {ari_score:.4f}\")\n",
        "\n",
        "# calculate roc curve\n",
        "fpr, tpr, _ = roc_curve(true_labels, cluster_labels)\n",
        "roc_auc = auc(fpr, tpr)\n",
        "\n",
        "# plot roc curve\n",
        "plt.figure(figsize=(6, 5))\n",
        "plt.plot(fpr, tpr, color='blue', lw=2, label=f'ROC curve (AUC = {roc_auc:.2f})')\n",
        "plt.plot([0, 1], [0, 1], color='grey', linestyle='--') \n",
        "plt.xlim([0.0, 1.0])\n",
        "plt.ylim([0.0, 1.05])\n",
        "plt.xlabel('False Positive Rate')\n",
        "plt.ylabel('True Positive Rate')\n",
        "plt.title('Receiver Operating Characteristic (ROC) Curve')\n",
        "plt.legend(loc=\"lower right\")\n",
        "plt.show()\n",
        "\n",
        "# calculate set intersections\n",
        "set_true_1 = set(np.where(true_labels == 1)[0])  # index of true class=1\n",
        "set_cluster_1 = set(np.where(cluster_labels == 1)[0])  # index of cluster=1\n",
        "\n",
        "# plot Venn Diagram\n",
        "plt.figure(figsize=(5, 5))\n",
        "venn2([set_true_1, set_cluster_1], ('True Class = 1', 'Cluster = 1'))\n",
        "plt.title('Venn Diagram: Overlap Between True Class 1 and Cluster 1')\n",
        "plt.show()"
      ]
    },
    {
      "cell_type": "markdown",
      "metadata": {
        "id": "UhoovboEATo7"
      },
      "source": [
        "### 🚀 An example of **VaDER** for clustering"
      ]
    },
    {
      "cell_type": "code",
      "execution_count": 14,
      "metadata": {
        "id": "HN9kmDtoAWuk"
      },
      "outputs": [
        {
          "name": "stderr",
          "output_type": "stream",
          "text": [
            "2025-03-18 09:46:13 [INFO]: No given device, using default device: cuda\n",
            "2025-03-18 09:46:13 [INFO]: Model files will be saved to tutorial_results/clustering/vader/20250318_T094613\n",
            "2025-03-18 09:46:13 [INFO]: Tensorboard file will be saved to tutorial_results/clustering/vader/20250318_T094613/tensorboard\n",
            "2025-03-18 09:46:13 [INFO]: VaDER initialized with the given hyperparameters, the number of trainable parameters: 293,644\n",
            "2025-03-18 09:49:20 [INFO]: Epoch 001 - training loss (default): 167.9234\n",
            "2025-03-18 09:49:28 [INFO]: Epoch 002 - training loss (default): 142.5946\n",
            "2025-03-18 09:49:37 [INFO]: Epoch 003 - training loss (default): 144.9003\n",
            "2025-03-18 09:49:46 [INFO]: Epoch 004 - training loss (default): 143.8211\n",
            "2025-03-18 09:49:54 [INFO]: Epoch 005 - training loss (default): 142.0875\n",
            "2025-03-18 09:50:02 [INFO]: Epoch 006 - training loss (default): 139.6002\n",
            "2025-03-18 09:50:11 [INFO]: Epoch 007 - training loss (default): 139.5562\n",
            "2025-03-18 09:50:19 [INFO]: Epoch 008 - training loss (default): 140.2616\n",
            "2025-03-18 09:50:27 [INFO]: Epoch 009 - training loss (default): 142.5223\n",
            "2025-03-18 09:50:35 [INFO]: Epoch 010 - training loss (default): 142.7607\n",
            "2025-03-18 09:50:35 [INFO]: Exceeded the training patience. Terminating the training procedure...\n",
            "2025-03-18 09:50:35 [INFO]: Finished training. The best model is from epoch#7.\n",
            "2025-03-18 09:50:35 [INFO]: Saved the model to tutorial_results/clustering/vader/20250318_T094613/VaDER.pypots\n"
          ]
        },
        {
          "name": "stdout",
          "output_type": "stream",
          "text": [
            "Testing clustering metrics: \n",
            "RI: 0.6781007509386734, \n",
            "CP: 0.86125,\n",
            "\n"
          ]
        }
      ],
      "source": [
        "from pypots.optim import Adam\n",
        "from pypots.clustering import VaDER\n",
        "from pypots.utils.metrics import calc_rand_index, calc_cluster_purity\n",
        "\n",
        "# initialize the model\n",
        "vader = VaDER(\n",
        "    n_steps=physionet2012_dataset[\"n_steps\"],\n",
        "    n_features=physionet2012_dataset[\"n_features\"],\n",
        "    n_clusters=physionet2012_dataset[\"n_classes\"],\n",
        "    rnn_hidden_size=128,\n",
        "    d_mu_stddev=2,\n",
        "    pretrain_epochs=20,\n",
        "    batch_size=32,\n",
        "    # here we set epochs=10 for a quick demo, you can set it to 100 or more for better performance\n",
        "    epochs=10,\n",
        "    # here we set patience=3 to early stop the training if the evaluting loss doesn't decrease for 3 epoches.\n",
        "    # You can leave it to defualt as None to disable early stopping.\n",
        "    patience=3,\n",
        "    # give the optimizer. Different from torch.optim.Optimizer, you don't have to specify model's parameters when\n",
        "    # initializing pypots.optim.Optimizer. You can also leave it to default. It will initilize an Adam optimizer with lr=0.001.\n",
        "    optimizer=Adam(lr=1e-3),\n",
        "    # this num_workers argument is for torch.utils.data.Dataloader. It's the number of subprocesses to use for data loading.\n",
        "    # Leaving it to default as 0 means data loading will be in the main process, i.e. there won't be subprocesses.\n",
        "    # You can increase it to >1 if you think your dataloading is a bottleneck to your model training speed\n",
        "    num_workers=0,\n",
        "    # just leave it to default as None, PyPOTS will automatically assign the best device for you.\n",
        "    # Set it as 'cpu' if you don't have CUDA devices. You can also set it to 'cuda:0' or 'cuda:1' if you have multiple CUDA devices, even parallelly on ['cuda:0', 'cuda:1']\n",
        "    device=None,\n",
        "    # set the path for saving tensorboard and trained model files\n",
        "    saving_path=\"tutorial_results/clustering/vader\",\n",
        "    # only save the best model after training finished.\n",
        "    # You can also set it as \"better\" to save models performing better ever during training.\n",
        "    model_saving_strategy=\"best\",\n",
        ")\n",
        "\n",
        "# train the model on the training set, and validate it on the validating set to select the best model for testing in the next step\n",
        "vader.fit(train_set=dataset_for_training)\n",
        "\n",
        "# the testing stage\n",
        "vader_results = vader.predict(dataset_for_testing)\n",
        "vader_clustering = vader_results[\"clustering\"]\n",
        "\n",
        "# calculate the values of clustering metrics on the model's prediction\n",
        "RI = calc_rand_index(vader_clustering, dataset_for_testing[\"y\"])\n",
        "CP = calc_cluster_purity(vader_clustering, dataset_for_testing[\"y\"])\n",
        "\n",
        "print(\"Testing clustering metrics: \\n\"\n",
        "      f'RI: {RI}, \\n'\n",
        "      f'CP: {CP},\\n'\n",
        ")"
      ]
    },
    {
      "cell_type": "code",
      "execution_count": null,
      "metadata": {},
      "outputs": [
        {
          "data": {
            "image/png": "[encoded data removed]",
            "text/plain": [
              "<Figure size 600x500 with 2 Axes>"
            ]
          },
          "metadata": {},
          "output_type": "display_data"
        },
        {
          "name": "stdout",
          "output_type": "stream",
          "text": [
            "Classification Report:\n",
            "               precision    recall  f1-score    support\n",
            "0              0.878223  0.889695  0.883922  689.00000\n",
            "1              0.254902  0.234234  0.244131  111.00000\n",
            "accuracy       0.798750  0.798750  0.798750    0.79875\n",
            "macro avg      0.566563  0.561965  0.564027  800.00000\n",
            "weighted avg   0.791738  0.798750  0.795151  800.00000\n",
            "Adjusted Rand Index (ARI): 0.0944\n"
          ]
        },
        {
          "data": {
            "image/png": "[encoded data removed]",
            "text/plain": [
              "<Figure size 600x500 with 1 Axes>"
            ]
          },
          "metadata": {},
          "output_type": "display_data"
        },
        {
          "data": {
            "image/png": "[encoded data removed]",
            "text/plain": [
              "<Figure size 500x500 with 1 Axes>"
            ]
          },
          "metadata": {},
          "output_type": "display_data"
        }
      ],
      "source": [
        "import numpy as np\n",
        "import matplotlib.pyplot as plt\n",
        "import seaborn as sns\n",
        "from sklearn.metrics import confusion_matrix, classification_report, adjusted_rand_score\n",
        "import pandas as pd\n",
        "from sklearn.metrics import roc_curve, auc\n",
        "from matplotlib_venn import venn2\n",
        "\n",
        "true_labels = np.array(dataset_for_testing[\"y\"]).flatten()\n",
        "cluster_labels = np.array(vader_clustering).flatten()\n",
        "\n",
        "# calculate the confusion matrix\n",
        "conf_matrix = confusion_matrix(true_labels, cluster_labels)\n",
        "\n",
        "# plot the confusion matrix\n",
        "plt.figure(figsize=(6,5))\n",
        "sns.heatmap(conf_matrix, annot=True, fmt=\"d\", cmap=\"Blues\", xticklabels=[0,1], yticklabels=[0,1])\n",
        "plt.xlabel(\"Predicted Cluster\")\n",
        "plt.ylabel(\"True Class\")\n",
        "plt.title(\"Confusion Matrix: Clustering vs. True Labels\")\n",
        "plt.show()\n",
        "\n",
        "# calculate the classification report\n",
        "report = classification_report(true_labels, cluster_labels, output_dict=True)\n",
        "report_df = pd.DataFrame(report).transpose()\n",
        "print(\"Classification Report:\\n\", report_df)\n",
        "\n",
        "# calculate the Adjusted Rand Index\n",
        "ari_score = adjusted_rand_score(true_labels, cluster_labels)\n",
        "print(f\"Adjusted Rand Index (ARI): {ari_score:.4f}\")\n",
        "\n",
        "# calculate roc curve\n",
        "fpr, tpr, _ = roc_curve(true_labels, cluster_labels)\n",
        "roc_auc = auc(fpr, tpr)\n",
        "\n",
        "# plot roc curve\n",
        "plt.figure(figsize=(6, 5))\n",
        "plt.plot(fpr, tpr, color='blue', lw=2, label=f'ROC curve (AUC = {roc_auc:.2f})')\n",
        "plt.plot([0, 1], [0, 1], color='grey', linestyle='--') \n",
        "plt.xlim([0.0, 1.0])\n",
        "plt.ylim([0.0, 1.05])\n",
        "plt.xlabel('False Positive Rate')\n",
        "plt.ylabel('True Positive Rate')\n",
        "plt.title('Receiver Operating Characteristic (ROC) Curve')\n",
        "plt.legend(loc=\"lower right\")\n",
        "plt.show()\n",
        "\n",
        "# calculate set intersections\n",
        "set_true_1 = set(np.where(true_labels == 1)[0])  # index of true class=1\n",
        "set_cluster_1 = set(np.where(cluster_labels == 1)[0])  # index of cluster=1\n",
        "\n",
        "# plot Venn Diagram\n",
        "plt.figure(figsize=(5, 5))\n",
        "venn2([set_true_1, set_cluster_1], ('True Class = 1', 'Cluster = 1'))\n",
        "plt.title('Venn Diagram: Overlap Between True Class 1 and Cluster 1')\n",
        "plt.show()"
      ]
    },
    {
      "cell_type": "markdown",
      "metadata": {
        "id": "UoR-KkgtAiZx"
      },
      "source": [
        "## 🌟 Forecasting Models"
      ]
    },
    {
      "cell_type": "code",
      "execution_count": 16,
      "metadata": {
        "id": "dvsTR8ARAh5P"
      },
      "outputs": [],
      "source": [
        "# Assemble the datasets for training, validating, and testing.\n",
        "\n",
        "dataset_for_training = {\n",
        "    \"X\": physionet2012_dataset['train_X'],\n",
        "}\n",
        "\n",
        "dataset_for_validating = {\n",
        "    \"X\": physionet2012_dataset['val_X'],\n",
        "    \"X_intact\": physionet2012_dataset['val_X_ori'],\n",
        "}\n",
        "\n",
        "dataset_for_testing = {\n",
        "    \"X\": physionet2012_dataset['test_X'][:, :36],  # we only take the first 36 steps for model input,\n",
        "    # and let the model forecast the left 12 steps\n",
        "}\n"
      ]
    },
    {
      "cell_type": "markdown",
      "metadata": {
        "id": "jVIB7HhdAn2V"
      },
      "source": [
        "### 🚀 An example of **BTTF** for forecasting"
      ]
    },
    {
      "cell_type": "code",
      "execution_count": null,
      "metadata": {
        "id": "brxb6kAoAq6g"
      },
      "outputs": [
        {
          "name": "stderr",
          "output_type": "stream",
          "text": [
            "2025-03-18 09:52:13 [INFO]: No given device, using default device: cuda\n",
            "2025-03-18 09:52:13 [WARNING]: ‼️ saving_path not given. Model files and tensorboard file will not be saved.\n",
            "/data/miniconda3/envs/workshop/lib/python3.12/site-packages/pypots/forecasting/bttf/model.py:101: UserWarning: Please run func forecast(X) directly.\n",
            "  warnings.warn(\"Please run func forecast(X) directly.\")\n"
          ]
        },
        {
          "name": "stdout",
          "output_type": "stream",
          "text": [
            "Testing mean absolute error: 0.9022\n"
          ]
        }
      ],
      "source": [
        "from pypots.forecasting import BTTF\n",
        "from pypots.nn.functional import calc_mae\n",
        "\n",
        "# initialize the model\n",
        "bttf = BTTF(\n",
        "    36,\n",
        "    physionet2012_dataset[\"n_features\"],\n",
        "    pred_step=12,\n",
        "    rank=10,\n",
        "    time_lags=[1, 2, 3, 10, 10 + 1, 10 + 2, 20, 20 + 1, 20 + 2],\n",
        "    burn_iter=5,\n",
        "    gibbs_iter=5,\n",
        "    multi_step=1,\n",
        ")\n",
        "\n",
        "# train the model on the training set, and validate it on the validating set to select the best model for testing in the next step\n",
        "bttf.fit(train_set=dataset_for_training, val_set=dataset_for_validating)\n",
        "# BTTF does not need to run func fits().\n",
        "\n",
        "# the testing stage\n",
        "bttf_results = bttf.predict(dataset_for_testing)\n",
        "bttf_prediction = bttf_results[\"forecasting\"]\n",
        "\n",
        "# calculate the mean absolute error on the ground truth in the forecasting task\n",
        "testing_mae = calc_mae(\n",
        "    bttf_prediction,\n",
        "    np.nan_to_num(physionet2012_dataset['test_X'][:, 36:]),\n",
        "    (~np.isnan(physionet2012_dataset['test_X'][:, 36:])).astype(int),\n",
        ")\n",
        "print(f\"Testing mean absolute error: {testing_mae:.4f}\")\n"
      ]
    },
    {
      "cell_type": "markdown",
      "metadata": {
        "id": "PnNGplDi_H09"
      },
      "source": [
        "## 🌟 Classification Models"
      ]
    },
    {
      "cell_type": "code",
      "execution_count": 3,
      "metadata": {
        "id": "Hm5IMCa1-8WW"
      },
      "outputs": [],
      "source": [
        "# Assemble the datasets for training, validating, and testing.\n",
        "\n",
        "dataset_for_training = {\n",
        "    \"X\": physionet2012_dataset['train_X'],\n",
        "    \"y\": physionet2012_dataset['train_y'],\n",
        "}\n",
        "\n",
        "dataset_for_validating = {\n",
        "    \"X\": physionet2012_dataset['val_X'],\n",
        "    \"y\": physionet2012_dataset['val_y'],\n",
        "}\n",
        "\n",
        "dataset_for_testing = {\n",
        "    \"X\": physionet2012_dataset['test_X'],\n",
        "    \"y\": physionet2012_dataset['test_y'],\n",
        "}"
      ]
    },
    {
      "cell_type": "markdown",
      "metadata": {
        "id": "qlluYv6q_jMn"
      },
      "source": [
        "### 🚀 An example of **BRITS** for classification"
      ]
    },
    {
      "cell_type": "code",
      "execution_count": 4,
      "metadata": {
        "id": "FvxZl33v_jCR"
      },
      "outputs": [
        {
          "name": "stderr",
          "output_type": "stream",
          "text": [
            "2025-03-18 11:22:35 [INFO]: No given device, using default device: cuda\n",
            "2025-03-18 11:22:35 [INFO]: Model files will be saved to tutorial_results/classification/brits/20250318_T112235\n",
            "2025-03-18 11:22:35 [INFO]: Tensorboard file will be saved to tutorial_results/classification/brits/20250318_T112235/tensorboard\n",
            "2025-03-18 11:22:35 [INFO]: Using customized CrossEntropy as the training loss function.\n",
            "2025-03-18 11:22:35 [INFO]: Using customized PR_AUC as the validation metric function.\n",
            "2025-03-18 11:22:35 [INFO]: BRITS initialized with the given hyperparameters, the number of trainable parameters: 730,612\n"
          ]
        },
        {
          "name": "stderr",
          "output_type": "stream",
          "text": [
            "2025-03-18 11:22:54 [INFO]: Epoch 001 - training loss (CrossEntropy): 1.6046, validation PR_AUC: 0.5744\n",
            "2025-03-18 11:23:08 [INFO]: Epoch 002 - training loss (CrossEntropy): 1.2961, validation PR_AUC: 0.3176\n",
            "2025-03-18 11:23:23 [INFO]: Epoch 003 - training loss (CrossEntropy): 1.2045, validation PR_AUC: 0.4805\n",
            "2025-03-18 11:23:38 [INFO]: Epoch 004 - training loss (CrossEntropy): 1.1562, validation PR_AUC: 0.4289\n",
            "2025-03-18 11:23:53 [INFO]: Epoch 005 - training loss (CrossEntropy): 1.0981, validation PR_AUC: 0.4305\n",
            "2025-03-18 11:23:53 [INFO]: Exceeded the training patience. Terminating the training procedure...\n",
            "2025-03-18 11:23:53 [INFO]: Finished training. The best model is from epoch#2.\n",
            "2025-03-18 11:23:53 [INFO]: Saved the model to tutorial_results/classification/brits/20250318_T112235/BRITS.pypots\n"
          ]
        },
        {
          "name": "stdout",
          "output_type": "stream",
          "text": [
            "Testing classification metrics: \n",
            "ROC_AUC: 0.793080453457812, \n",
            "PR_AUC: 0.41394132933649885,\n",
            "F1: 0.2482758620689655,\n",
            "Precision: 0.5294117647058824,\n",
            "Recall: 0.16216216216216217,\n",
            "\n"
          ]
        }
      ],
      "source": [
        "from pypots.optim import Adam\n",
        "from pypots.classification import BRITS\n",
        "from pypots.nn.functional import calc_binary_classification_metrics\n",
        "\n",
        "# initialize the model\n",
        "brits = BRITS(\n",
        "    n_steps=physionet2012_dataset['n_steps'],\n",
        "    n_features=physionet2012_dataset['n_features'],\n",
        "    n_classes=physionet2012_dataset[\"n_classes\"],\n",
        "    rnn_hidden_size=256,\n",
        "    batch_size=32,\n",
        "    # here we set epochs=10 for a quick demo, you can set it to 100 or more for better performance\n",
        "    epochs=10,\n",
        "    # here we set patience=3 to early stop the training if the evaluting loss doesn't decrease for 3 epoches.\n",
        "    # You can leave it to defualt as None to disable early stopping.\n",
        "    patience=3,\n",
        "    # give the optimizer. Different from torch.optim.Optimizer, you don't have to specify model's parameters when\n",
        "    # initializing pypots.optim.Optimizer. You can also leave it to default. It will initilize an Adam optimizer with lr=0.001.\n",
        "    optimizer=Adam(lr=1e-3),\n",
        "    # this num_workers argument is for torch.utils.data.Dataloader. It's the number of subprocesses to use for data loading.\n",
        "    # Leaving it to default as 0 means data loading will be in the main process, i.e. there won't be subprocesses.\n",
        "    # You can increase it to >1 if you think your dataloading is a bottleneck to your model training speed\n",
        "    num_workers=0,\n",
        "    # just leave it to default as None, PyPOTS will automatically assign the best device for you.\n",
        "    # Set it as 'cpu' if you don't have CUDA devices. You can also set it to 'cuda:0' or 'cuda:1' if you have multiple CUDA devices, even parallelly on ['cuda:0', 'cuda:1']\n",
        "    device=None,\n",
        "    # set the path for saving tensorboard and trained model files\n",
        "    saving_path=\"tutorial_results/classification/brits\",\n",
        "    # only save the best model after training finished.\n",
        "    # You can also set it as \"better\" to save models performing better ever during training.\n",
        "    model_saving_strategy=\"best\",\n",
        ")\n",
        "\n",
        "# train the model on the training set, and validate it on the validating set to select the best model for testing in the next step\n",
        "brits.fit(train_set=dataset_for_training, val_set=dataset_for_validating)\n",
        "\n",
        "# the testing stage\n",
        "brits_results = brits.predict(dataset_for_testing)\n",
        "brits_prediction = brits_results[\"classification\"]\n",
        "\n",
        "# calculate the values of binary classification metrics on the model's prediction\n",
        "metrics = calc_binary_classification_metrics(brits_prediction, dataset_for_testing[\"y\"])\n",
        "print(\"Testing classification metrics: \\n\"\n",
        "    f'ROC_AUC: {metrics[\"roc_auc\"]}, \\n'\n",
        "    f'PR_AUC: {metrics[\"pr_auc\"]},\\n'\n",
        "    f'F1: {metrics[\"f1\"]},\\n'\n",
        "    f'Precision: {metrics[\"precision\"]},\\n'\n",
        "    f'Recall: {metrics[\"recall\"]},\\n'\n",
        ")"
      ]
    },
    {
      "cell_type": "markdown",
      "metadata": {
        "id": "msmIoNGH_wQ4"
      },
      "source": [
        "### 🚀 An example of **GRUD** for classification"
      ]
    },
    {
      "cell_type": "code",
      "execution_count": 5,
      "metadata": {
        "id": "j-hLkYbR_vru"
      },
      "outputs": [
        {
          "name": "stderr",
          "output_type": "stream",
          "text": [
            "2025-03-18 11:40:32 [WARNING]: ‼️ `pypots.utils.metrics` is deprecated. Please import from `pypots.nn.functional` instead.\n",
            "2025-03-18 11:40:32 [INFO]: No given device, using default device: cuda\n",
            "2025-03-18 11:40:32 [INFO]: Model files will be saved to tutorial_results/classification/grud/20250318_T114032\n",
            "2025-03-18 11:40:32 [INFO]: Tensorboard file will be saved to tutorial_results/classification/grud/20250318_T114032/tensorboard\n",
            "2025-03-18 11:40:32 [INFO]: Using customized CrossEntropy as the training loss function.\n",
            "2025-03-18 11:40:32 [INFO]: Using customized PR_AUC as the validation metric function.\n",
            "2025-03-18 11:40:32 [INFO]: GRUD initialized with the given hyperparameters, the number of trainable parameters: 16,128\n",
            "2025-03-18 11:40:37 [INFO]: Epoch 001 - training loss (CrossEntropy): 0.3886, validation PR_AUC: 0.4609\n",
            "2025-03-18 11:40:40 [INFO]: Epoch 002 - training loss (CrossEntropy): 0.3193, validation PR_AUC: 0.4830\n",
            "2025-03-18 11:40:42 [INFO]: Epoch 003 - training loss (CrossEntropy): 0.2974, validation PR_AUC: 0.4918\n",
            "2025-03-18 11:40:45 [INFO]: Epoch 004 - training loss (CrossEntropy): 0.2823, validation PR_AUC: 0.4856\n",
            "2025-03-18 11:40:45 [INFO]: Exceeded the training patience. Terminating the training procedure...\n",
            "2025-03-18 11:40:45 [INFO]: Finished training. The best model is from epoch#1.\n",
            "2025-03-18 11:40:45 [INFO]: Saved the model to tutorial_results/classification/grud/20250318_T114032/GRUD.pypots\n"
          ]
        },
        {
          "name": "stdout",
          "output_type": "stream",
          "text": [
            "Testing classification metrics: \n",
            "ROC_AUC: 0.7973953634330992, \n",
            "PR_AUC: 0.4849192685735514,\n",
            "F1: 0.4166666666666667,\n",
            "Precision: 0.6140350877192983,\n",
            "Recall: 0.3153153153153153,\n",
            "\n"
          ]
        }
      ],
      "source": [
        "from pypots.optim import Adam\n",
        "from pypots.classification import GRUD\n",
        "from pypots.utils.metrics import calc_binary_classification_metrics\n",
        "\n",
        "# initialize the model\n",
        "grud = GRUD(\n",
        "    n_steps=physionet2012_dataset['n_steps'],\n",
        "    n_features=physionet2012_dataset['n_features'],\n",
        "    n_classes=physionet2012_dataset[\"n_classes\"],\n",
        "    rnn_hidden_size=32,\n",
        "    batch_size=32,\n",
        "    # here we set epochs=10 for a quick demo, you can set it to 100 or more for better performance\n",
        "    epochs=10,\n",
        "    # here we set patience=3 to early stop the training if the evaluting loss doesn't decrease for 3 epoches.\n",
        "    # You can leave it to defualt as None to disable early stopping.\n",
        "    patience=3,\n",
        "    # give the optimizer. Different from torch.optim.Optimizer, you don't have to specify model's parameters when\n",
        "    # initializing pypots.optim.Optimizer. You can also leave it to default. It will initilize an Adam optimizer with lr=0.001.\n",
        "    optimizer=Adam(lr=1e-3),\n",
        "    # this num_workers argument is for torch.utils.data.Dataloader. It's the number of subprocesses to use for data loading.\n",
        "    # Leaving it to default as 0 means data loading will be in the main process, i.e. there won't be subprocesses.\n",
        "    # You can increase it to >1 if you think your dataloading is a bottleneck to your model training speed\n",
        "    num_workers=0,\n",
        "    # just leave it to default as None, PyPOTS will automatically assign the best device for you.\n",
        "    # Set it as 'cpu' if you don't have CUDA devices. You can also set it to 'cuda:0' or 'cuda:1' if you have multiple CUDA devices, even parallelly on ['cuda:0', 'cuda:1']\n",
        "    device=None,\n",
        "    # set the path for saving tensorboard and trained model files\n",
        "    saving_path=\"tutorial_results/classification/grud\",\n",
        "    # only save the best model after training finished.\n",
        "    # You can also set it as \"better\" to save models performing better ever during training.\n",
        "    model_saving_strategy=\"best\",\n",
        ")\n",
        "\n",
        "# train the model on the training set, and validate it on the validating set to select the best model for testing in the next step\n",
        "grud.fit(train_set=dataset_for_training, val_set=dataset_for_validating)\n",
        "\n",
        "# the testing stage\n",
        "grud_results = grud.predict(dataset_for_testing)\n",
        "grud_prediction = grud_results[\"classification\"]\n",
        "\n",
        "# calculate the values of binary classification metrics on the model's prediction\n",
        "metrics = calc_binary_classification_metrics(grud_prediction, dataset_for_testing[\"y\"])\n",
        "print(\"Testing classification metrics: \\n\"\n",
        "    f'ROC_AUC: {metrics[\"roc_auc\"]}, \\n'\n",
        "    f'PR_AUC: {metrics[\"pr_auc\"]},\\n'\n",
        "    f'F1: {metrics[\"f1\"]},\\n'\n",
        "    f'Precision: {metrics[\"precision\"]},\\n'\n",
        "    f'Recall: {metrics[\"recall\"]},\\n'\n",
        ")"
      ]
    },
    {
      "cell_type": "markdown",
      "metadata": {
        "id": "Y1uXdzhY_Ypx"
      },
      "source": [
        "### 🚀 An example of **Raindrop** for classification"
      ]
    },
    {
      "cell_type": "code",
      "execution_count": 6,
      "metadata": {
        "id": "4iA49L0bF3vL"
      },
      "outputs": [
        {
          "name": "stdout",
          "output_type": "stream",
          "text": [
            "Installed torch version: 2.6.0+cu124\n",
            "Now install necessary dependencies (pyg etc.) for the Raindrop model...\n",
            "\n",
            "Looking in indexes: https://pypi.org/simple, https://pypi.ngc.nvidia.com\n",
            "Looking in links: https://data.pyg.org/whl/torch-2.6.0+cu124.html\n",
            "Collecting torch-geometric\n",
            "  Downloading torch_geometric-2.6.1-py3-none-any.whl.metadata (63 kB)\n",
            "Collecting torch-scatter\n",
            "  Downloading torch_scatter-2.1.2.tar.gz (108 kB)\n",
            "  Preparing metadata (setup.py) ... \u001b[?25ldone\n",
            "\u001b[?25hCollecting torch-sparse\n",
            "  Downloading torch_sparse-0.6.18.tar.gz (209 kB)\n",
            "  Preparing metadata (setup.py) ... \u001b[?25ldone\n",
            "\u001b[?25hCollecting aiohttp (from torch-geometric)\n",
            "  Downloading aiohttp-3.11.14-cp312-cp312-manylinux_2_17_x86_64.manylinux2014_x86_64.whl.metadata (7.7 kB)\n",
            "Requirement already satisfied: fsspec in /data/miniconda3/envs/workshop/lib/python3.12/site-packages (from torch-geometric) (2025.3.0)\n",
            "Requirement already satisfied: jinja2 in /data/miniconda3/envs/workshop/lib/python3.12/site-packages (from torch-geometric) (3.1.6)\n",
            "Requirement already satisfied: numpy in /data/miniconda3/envs/workshop/lib/python3.12/site-packages (from torch-geometric) (2.2.4)\n",
            "Requirement already satisfied: psutil>=5.8.0 in /data/miniconda3/envs/workshop/lib/python3.12/site-packages (from torch-geometric) (5.9.0)\n",
            "Requirement already satisfied: pyparsing in /data/miniconda3/envs/workshop/lib/python3.12/site-packages (from torch-geometric) (3.2.1)\n",
            "Requirement already satisfied: requests in /data/miniconda3/envs/workshop/lib/python3.12/site-packages (from torch-geometric) (2.32.3)\n",
            "Requirement already satisfied: tqdm in /data/miniconda3/envs/workshop/lib/python3.12/site-packages (from torch-geometric) (4.67.1)\n",
            "Requirement already satisfied: scipy in /data/miniconda3/envs/workshop/lib/python3.12/site-packages (from torch-sparse) (1.15.2)\n",
            "Collecting aiohappyeyeballs>=2.3.0 (from aiohttp->torch-geometric)\n",
            "  Downloading aiohappyeyeballs-2.6.1-py3-none-any.whl.metadata (5.9 kB)\n",
            "Collecting aiosignal>=1.1.2 (from aiohttp->torch-geometric)\n",
            "  Downloading aiosignal-1.3.2-py2.py3-none-any.whl.metadata (3.8 kB)\n",
            "Collecting attrs>=17.3.0 (from aiohttp->torch-geometric)\n",
            "  Downloading attrs-25.3.0-py3-none-any.whl.metadata (10 kB)\n",
            "Collecting frozenlist>=1.1.1 (from aiohttp->torch-geometric)\n",
            "  Downloading frozenlist-1.5.0-cp312-cp312-manylinux_2_5_x86_64.manylinux1_x86_64.manylinux_2_17_x86_64.manylinux2014_x86_64.whl.metadata (13 kB)\n",
            "Collecting multidict<7.0,>=4.5 (from aiohttp->torch-geometric)\n",
            "  Downloading multidict-6.2.0-cp312-cp312-manylinux_2_17_x86_64.manylinux2014_x86_64.whl.metadata (4.9 kB)\n",
            "Collecting propcache>=0.2.0 (from aiohttp->torch-geometric)\n",
            "  Downloading propcache-0.3.0-cp312-cp312-manylinux_2_17_x86_64.manylinux2014_x86_64.whl.metadata (10 kB)\n",
            "Collecting yarl<2.0,>=1.17.0 (from aiohttp->torch-geometric)\n",
            "  Downloading yarl-1.18.3-cp312-cp312-manylinux_2_17_x86_64.manylinux2014_x86_64.whl.metadata (69 kB)\n",
            "Requirement already satisfied: MarkupSafe>=2.0 in /data/miniconda3/envs/workshop/lib/python3.12/site-packages (from jinja2->torch-geometric) (3.0.2)\n",
            "Requirement already satisfied: charset-normalizer<4,>=2 in /data/miniconda3/envs/workshop/lib/python3.12/site-packages (from requests->torch-geometric) (3.4.1)\n",
            "Requirement already satisfied: idna<4,>=2.5 in /data/miniconda3/envs/workshop/lib/python3.12/site-packages (from requests->torch-geometric) (3.10)\n",
            "Requirement already satisfied: urllib3<3,>=1.21.1 in /data/miniconda3/envs/workshop/lib/python3.12/site-packages (from requests->torch-geometric) (2.3.0)\n",
            "Requirement already satisfied: certifi>=2017.4.17 in /data/miniconda3/envs/workshop/lib/python3.12/site-packages (from requests->torch-geometric) (2025.1.31)\n",
            "Downloading torch_geometric-2.6.1-py3-none-any.whl (1.1 MB)\n",
            "\u001b[2K   \u001b[90m━━━━━━━━━━━━━━━━━━━━━━━━━━━━━━━━━━━━━━━━\u001b[0m \u001b[32m1.1/1.1 MB\u001b[0m \u001b[31m54.0 MB/s\u001b[0m eta \u001b[36m0:00:00\u001b[0m\n",
            "\u001b[?25hDownloading aiohttp-3.11.14-cp312-cp312-manylinux_2_17_x86_64.manylinux2014_x86_64.whl (1.7 MB)\n",
            "\u001b[2K   \u001b[90m━━━━━━━━━━━━━━━━━━━━━━━━━━━━━━━━━━━━━━━━\u001b[0m \u001b[32m1.7/1.7 MB\u001b[0m \u001b[31m80.9 MB/s\u001b[0m eta \u001b[36m0:00:00\u001b[0m\n",
            "\u001b[?25hDownloading aiohappyeyeballs-2.6.1-py3-none-any.whl (15 kB)\n",
            "Downloading aiosignal-1.3.2-py2.py3-none-any.whl (7.6 kB)\n",
            "Downloading attrs-25.3.0-py3-none-any.whl (63 kB)\n",
            "Downloading frozenlist-1.5.0-cp312-cp312-manylinux_2_5_x86_64.manylinux1_x86_64.manylinux_2_17_x86_64.manylinux2014_x86_64.whl (283 kB)\n",
            "Downloading multidict-6.2.0-cp312-cp312-manylinux_2_17_x86_64.manylinux2014_x86_64.whl (132 kB)\n",
            "Downloading propcache-0.3.0-cp312-cp312-manylinux_2_17_x86_64.manylinux2014_x86_64.whl (243 kB)\n",
            "Downloading yarl-1.18.3-cp312-cp312-manylinux_2_17_x86_64.manylinux2014_x86_64.whl (336 kB)\n",
            "Building wheels for collected packages: torch-scatter, torch-sparse\n",
            "  Building wheel for torch-scatter (setup.py) ... \u001b[?25ldone\n",
            "\u001b[?25h  Created wheel for torch-scatter: filename=torch_scatter-2.1.2-cp312-cp312-linux_x86_64.whl size=545711 sha256=c8be0630891e8377969e35f77fe7db3a816bc098d115542029df8d5e60f41e91\n",
            "  Stored in directory: /tmp/pip-ephem-wheel-cache-1kbn8cb3/wheels/84/20/50/44800723f57cd798630e77b3ec83bc80bd26a1e3dc3a672ef5\n",
            "  Building wheel for torch-sparse (setup.py) ... \u001b[?25ldone\n",
            "\u001b[?25h  Created wheel for torch-sparse: filename=torch_sparse-0.6.18-cp312-cp312-linux_x86_64.whl size=1131951 sha256=cb4ec183ca3db4f16f939fb9fbe15fbd947121e6c545d9a7402bdfa3c95a7677\n",
            "  Stored in directory: /tmp/pip-ephem-wheel-cache-1kbn8cb3/wheels/71/fa/21/bd1d78ce1629aec4ecc924a63b82f6949dda484b6321eac6f2\n",
            "Successfully built torch-scatter torch-sparse\n",
            "Installing collected packages: torch-scatter, propcache, multidict, frozenlist, attrs, aiohappyeyeballs, yarl, torch-sparse, aiosignal, aiohttp, torch-geometric\n",
            "Successfully installed aiohappyeyeballs-2.6.1 aiohttp-3.11.14 aiosignal-1.3.2 attrs-25.3.0 frozenlist-1.5.0 multidict-6.2.0 propcache-0.3.0 torch-geometric-2.6.1 torch-scatter-2.1.2 torch-sparse-0.6.18 yarl-1.18.3\n"
          ]
        }
      ],
      "source": [
        "import torch\n",
        "\n",
        "print(f\"Installed torch version: {torch.__version__}\")\n",
        "print(\"Now install necessary dependencies (pyg etc.) for the Raindrop model...\\n\")\n",
        "\n",
        "pyg_whl_link = f\"https://data.pyg.org/whl/torch-{torch.__version__}.html\"\n",
        "\n",
        "! pip install torch-geometric torch-scatter torch-sparse -f $pyg_whl_link"
      ]
    },
    {
      "cell_type": "code",
      "execution_count": 7,
      "metadata": {
        "id": "ShuLMQ0L-9mr"
      },
      "outputs": [
        {
          "name": "stderr",
          "output_type": "stream",
          "text": [
            "2025-03-18 11:51:19 [INFO]: No given device, using default device: cuda\n",
            "2025-03-18 11:51:19 [INFO]: Model files will be saved to tutorial_results/classification/raindrop/20250318_T115119\n",
            "2025-03-18 11:51:19 [INFO]: Tensorboard file will be saved to tutorial_results/classification/raindrop/20250318_T115119/tensorboard\n",
            "2025-03-18 11:51:19 [INFO]: Using customized CrossEntropy as the training loss function.\n",
            "2025-03-18 11:51:19 [INFO]: Using customized PR_AUC as the validation metric function.\n",
            "/data/miniconda3/envs/workshop/lib/python3.12/site-packages/torch/nn/modules/transformer.py:385: UserWarning: enable_nested_tensor is True, but self.use_nested_tensor is False because encoder_layer.self_attn.batch_first was not True(use batch_first for better inference performance)\n",
            "  warnings.warn(\n",
            "/data/miniconda3/envs/workshop/lib/python3.12/site-packages/pypots/nn/modules/raindrop/backbone.py:114: FutureWarning: `nn.init.xavier_uniform` is now deprecated in favor of `nn.init.xavier_uniform_`.\n",
            "  nn.init.xavier_uniform(self.R_u)  # xavier_uniform also known as glorot\n",
            "2025-03-18 11:51:19 [INFO]: Raindrop initialized with the given hyperparameters, the number of trainable parameters: 1,442,396\n",
            "2025-03-18 11:51:25 [INFO]: Epoch 001 - training loss (CrossEntropy): 0.4114, validation PR_AUC: 0.5695\n",
            "2025-03-18 11:51:29 [INFO]: Epoch 002 - training loss (CrossEntropy): 0.3775, validation PR_AUC: 0.5695\n",
            "2025-03-18 11:51:33 [INFO]: Epoch 003 - training loss (CrossEntropy): 0.3412, validation PR_AUC: 0.5695\n",
            "2025-03-18 11:51:37 [INFO]: Epoch 004 - training loss (CrossEntropy): 0.3264, validation PR_AUC: 0.5695\n",
            "2025-03-18 11:51:37 [INFO]: Exceeded the training patience. Terminating the training procedure...\n",
            "2025-03-18 11:51:37 [INFO]: Finished training. The best model is from epoch#1.\n",
            "2025-03-18 11:51:37 [INFO]: Saved the model to tutorial_results/classification/raindrop/20250318_T115119/Raindrop.pypots\n"
          ]
        },
        {
          "name": "stdout",
          "output_type": "stream",
          "text": [
            "Testing classification metrics: \n",
            "ROC_AUC: 0.7781220988768158, \n",
            "PR_AUC: 0.4240289251777653,\n",
            "F1: 0.017857142857142856,\n",
            "Precision: 1.0,\n",
            "Recall: 0.009009009009009009,\n",
            "\n"
          ]
        }
      ],
      "source": [
        "from pypots.optim import Adam\n",
        "from pypots.classification import Raindrop\n",
        "from pypots.utils.metrics import calc_binary_classification_metrics\n",
        "\n",
        "# initialize the model\n",
        "raindrop = Raindrop(\n",
        "    n_steps=physionet2012_dataset['n_steps'],\n",
        "    n_features=physionet2012_dataset['n_features'],\n",
        "    n_classes=physionet2012_dataset[\"n_classes\"],\n",
        "    n_layers=2,\n",
        "    d_model=physionet2012_dataset[\"n_features\"] * 4,\n",
        "    d_ffn=256,\n",
        "    n_heads=2,\n",
        "    dropout=0.3,\n",
        "    batch_size=32,\n",
        "    # here we set epochs=10 for a quick demo, you can set it to 100 or more for better performance\n",
        "    epochs=10,\n",
        "    # here we set patience=3 to early stop the training if the evaluting loss doesn't decrease for 3 epoches.\n",
        "    # You can leave it to defualt as None to disable early stopping.\n",
        "    patience=3,\n",
        "    # give the optimizer. Different from torch.optim.Optimizer, you don't have to specify model's parameters when\n",
        "    # initializing pypots.optim.Optimizer. You can also leave it to default. It will initilize an Adam optimizer with lr=0.001.\n",
        "    optimizer=Adam(lr=1e-3),\n",
        "    # this num_workers argument is for torch.utils.data.Dataloader. It's the number of subprocesses to use for data loading.\n",
        "    # Leaving it to default as 0 means data loading will be in the main process, i.e. there won't be subprocesses.\n",
        "    # You can increase it to >1 if you think your dataloading is a bottleneck to your model training speed\n",
        "    num_workers=0,\n",
        "    # just leave it to default as None, PyPOTS will automatically assign the best device for you.\n",
        "    # Set it as 'cpu' if you don't have CUDA devices. You can also set it to 'cuda:0' or 'cuda:1' if you have multiple CUDA devices, even parallelly on ['cuda:0', 'cuda:1']\n",
        "    device=None,\n",
        "    # set the path for saving tensorboard and trained model files\n",
        "    saving_path=\"tutorial_results/classification/raindrop\",\n",
        "    model_saving_strategy=\"best\", # only save the best model after training finished.\n",
        "                                  # You can also set it as \"better\" to save models performing better ever during training.\n",
        ")\n",
        "\n",
        "# train the model on the training set, and validate it on the validating set to select the best model for testing in the next step\n",
        "raindrop.fit(train_set=dataset_for_training, val_set=dataset_for_validating)\n",
        "\n",
        "# the testing stage\n",
        "raindrop_results = raindrop.predict(dataset_for_testing)\n",
        "raindrop_prediction = raindrop_results[\"classification\"]\n",
        "\n",
        "# calculate the values of binary classification metrics on the model's prediction\n",
        "metrics = calc_binary_classification_metrics(raindrop_prediction, dataset_for_testing[\"y\"])\n",
        "print(\"Testing classification metrics: \\n\"\n",
        "    f'ROC_AUC: {metrics[\"roc_auc\"]}, \\n'\n",
        "    f'PR_AUC: {metrics[\"pr_auc\"]},\\n'\n",
        "    f'F1: {metrics[\"f1\"]},\\n'\n",
        "    f'Precision: {metrics[\"precision\"]},\\n'\n",
        "    f'Recall: {metrics[\"recall\"]},\\n'\n",
        ")"
      ]
    },
    {
      "cell_type": "code",
      "execution_count": null,
      "metadata": {},
      "outputs": [],
      "source": []
    },
    {
      "cell_type": "code",
      "execution_count": null,
      "metadata": {},
      "outputs": [],
      "source": []
    }
  ],
  "metadata": {
    "accelerator": "GPU",
    "colab": {
      "gpuType": "T4",
      "provenance": []
    },
    "kernelspec": {
      "display_name": "workshop",
      "language": "python",
      "name": "python3"
    },
    "language_info": {
      "codemirror_mode": {
        "name": "ipython",
        "version": 3
      },
      "file_extension": ".py",
      "mimetype": "text/x-python",
      "name": "python",
      "nbconvert_exporter": "python",
      "pygments_lexer": "ipython3",
      "version": "3.12.9"
    }
  },
  "nbformat": 4,
  "nbformat_minor": 0
}
